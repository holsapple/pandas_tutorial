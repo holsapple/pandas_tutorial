{
 "cells": [
  {
   "cell_type": "markdown",
   "id": "60ae80c1-9215-4f4b-b75e-1eeed3691b5d",
   "metadata": {},
   "source": [
    "# Introduction to pandas"
   ]
  },
  {
   "cell_type": "markdown",
   "id": "f97487d8-4b7c-45ef-9373-5ea1ca675236",
   "metadata": {},
   "source": [
    "## 1. Basic Data Structures in pandas"
   ]
  },
  {
   "cell_type": "markdown",
   "id": "857cc97d-cb0f-4d31-9398-afefe9c1128d",
   "metadata": {},
   "source": [
    "In this section I'll introduce the two main data structures in pandas: `DataFrame` and `Series`. I'll also show how you can perform some very basic data exploration and analysis of those structures."
   ]
  },
  {
   "cell_type": "markdown",
   "id": "1a3b1b96-93be-45d4-8675-0ac729da3cf7",
   "metadata": {},
   "source": [
    "### 1.1. Preliminaries "
   ]
  },
  {
   "cell_type": "markdown",
   "id": "08e91d0f-dde1-425e-963e-d5c7d3906723",
   "metadata": {},
   "source": [
    "If you are new to Python, then this first step might seem strange to you. When you have Python installed on your computer, it comes with a standard library of code packages that are specialized to perform certain tasks more efficiently than if you were to write the code \"from scratch\" for every task you want to perform. In addition to the standard library, there are many other packages (a.k.a. modules) that are easily downloadable from the internet. Indeed, this is exacly what pandas is... a Python package used for data analysis that is not in Python's standard library.\n",
    "\n",
    "Python has a small subset of [built-in functions](https://docs.python.org/3/library/functions.html) that are always available to you. However, if you want to use the functionality from one of those additional modules, whether they are from the standard library or downloaded from the internet, you must `import` it before you use it. As such, the first thing that most people like to do at the top of their code is to import the modules that they plan to use. If you forget one or simply decide later on to use one not already imported, then you can do so at any point in the code.\n",
    "\n",
    "In this next cell we `import` the modules necessary for this notebook. Some coders like to refer to this as a \"preamble,\" but I'm not sure that is standard. For reasons beyond the scope of this tutorial, it is also common for users to set certain parameters in the preamble. For example, below I set a few parameters that make the figures look a bit nicer. In addition to the imports and figure settings, there is also what we call a [magic command](https://ipython.readthedocs.io/en/stable/interactive/magics.html): `%matplotlib inline`. This command simply tells the plotting module to produce the figures inline in the notebook."
   ]
  },
  {
   "cell_type": "code",
   "execution_count": 1,
   "id": "42fb4843-f9ee-4071-b24a-7c1bc85f3c72",
   "metadata": {},
   "outputs": [],
   "source": [
    "# Any text on any line that is preceded by a '#' is simply a comment\n",
    "\n",
    "# Most of the lines below will be part of our standard preamble.\n",
    "\n",
    "%matplotlib inline\n",
    "\n",
    "import pandas as pd # this is why we're here... to learn pandas\n",
    "import numpy as np # fundamental package for scientific computing \n",
    "import matplotlib.pyplot as plt # this package makes the plots\n",
    "import requests # this package assists with downloading data from the internet\n",
    "import json # this package helps Python work with JSON objects\n",
    "from helper import clean_df # a custom function to assist in the tutorial\n",
    "\n",
    "plt.style.use('ggplot') # Make the graphs a bit prettier\n",
    "plt.rcParams['figure.figsize'] = (15, 5)\n",
    "plt.rcParams['font.family'] = 'sans-serif'"
   ]
  },
  {
   "cell_type": "markdown",
   "id": "f37a95e2-faf9-455f-97a5-aa005943dc31",
   "metadata": {},
   "source": [
    "**Note**: You probably noticed the use of the word \"as\" in those `import` statements above. This simply assigns a shorthand label to the package being imported. For example, when we want to use a function from pandas, we can refer to the module using `pd` instead of `pandas`. "
   ]
  },
  {
   "cell_type": "markdown",
   "id": "ddd7d464-2604-48ee-8735-8a6d1fbcf1cf",
   "metadata": {},
   "source": [
    "### 1.2. Load a dataset"
   ]
  },
  {
   "cell_type": "markdown",
   "id": "df6e0fff-04ea-43c6-b238-a0f0842f2e40",
   "metadata": {},
   "source": [
    "We can't really do much without some data to work with, so first let's load a dataset into the workspace. One of the most widely used methods for storing data is in a file type called \"Comma Separated Values\" or CSV. A CSV file is simply a text file containing data. The name itself is kind of a misnomer, since the data in a CSV doesn't have to be separtated by a comma. It can be separated by a semicolon or tab or space or some other symbol, called a delimiter. As long as you know what the delimeter is, pandas will have no problem loading in the dataset. By default, pandas will assume the delimeter is a comma.\n",
    "\n",
    "The dataset I want to open is `../data/Meteorite_Landings.csv`. Just in case you're not familiar with that syntax, `..` means to go up (back) one level in the directory tree. In that directory (folder) you'll see a directory called `data`. If you navigate into the `data` directory, you'll find the CSV file mentioned. The function I'll use to load (*read*) the CSV file is called `read_csv()`.\n",
    "\n",
    "---\n",
    "\n",
    "*The original source of this dataset is [NASA's open data website](https://data.nasa.gov/Space-Science/Meteorite-Landings/gh4g-9sfh), but I have simply taken the dataset from Stefanie Molin's pandas workshop, which I reference in the [README](../README.md) file of this tutorial.*\n",
    "\n",
    "---"
   ]
  },
  {
   "cell_type": "code",
   "execution_count": null,
   "id": "bbd94e7e-4fff-4b86-a5c9-3a84cb187857",
   "metadata": {},
   "outputs": [],
   "source": [
    "meteorites = pd.read_csv('../data/Meteorite_Landings.csv')"
   ]
  },
  {
   "cell_type": "markdown",
   "id": "d9370815-971f-4a68-ac9f-2a13fe01d40a",
   "metadata": {},
   "source": [
    "And just like that, we have \"loaded\" all of the data from that CSV file into our workspace. For aesthetic reasons, Python doesn't make a habit of printing things to the screen unless you ask it to do so, that's why you don't see anything. But rest assured that the data contained in that CSV file now stored in the variable `meteorites`. Unless we modify it or delete it, we will have access to all that data while we are working in this notebook. Now let's learn how the data are arranged in this Python object and the specific data structures associated with it."
   ]
  },
  {
   "cell_type": "markdown",
   "id": "aecd261d-71b5-4d89-a0f6-349ce4121299",
   "metadata": {},
   "source": [
    "### 1.3. The `DataFrame` and `Series` structures"
   ]
  },
  {
   "cell_type": "markdown",
   "id": "f2f19043-a993-40a9-b27a-44997e156906",
   "metadata": {},
   "source": [
    "#### 1.3.1. `DataFrame`"
   ]
  },
  {
   "cell_type": "markdown",
   "id": "44a4af2e-ae9e-4336-982b-9a6111c78983",
   "metadata": {},
   "source": [
    "The first thing we should do is to simply look at the data. If you want to do so, you can open up the CSV file itself in a text editor. But the best way to view the data is right here in this notebook. Let's take a look at the top (a.k.a., head) of the dataset. We'll use the `.head()` method to do this. We can put a positive integer inside the () to tell Python how many rows (sometimes called \"records\") from the head of the dataset to print out. We don't have to do this; by default, it will print out five records."
   ]
  },
  {
   "cell_type": "code",
   "execution_count": null,
   "id": "4de986e7-95f1-487a-953a-f40d66e14800",
   "metadata": {},
   "outputs": [],
   "source": [
    "meteorites.head()"
   ]
  },
  {
   "cell_type": "code",
   "execution_count": null,
   "id": "78373933-861c-493e-acad-1bdf4c8f722f",
   "metadata": {},
   "outputs": [],
   "source": [
    "# To see what kind of oject we have\n",
    "type(meteorites)"
   ]
  },
  {
   "cell_type": "markdown",
   "id": "1f66b52a-e8fc-4b99-bc95-4981db19f708",
   "metadata": {},
   "source": [
    "---\n",
    "\n",
    "It turns out that this object we created (called `meteorites`) is a pandas `DataFrame`. You can think of a `DataFrame` as a table of data, like something you'd create in a spreadsheet. It has two dimensions. Each row is one record of data. Each record consists of ten \"pieces\" (sometimes called *features*) of data. If we compare the text in the actual CSV file, we can see that the first row of data contains the labels for the various columns (features) of the dataset. \n",
    "\n",
    "Notice that the first column has no label and is a list of integers from 0 to 4. This is the `index` of the `DataFrame`. These values are not actually in the CSV file... go take a look. Each record in a `DataFrame` needs to have a unique identifier; we accomplish that using an `index`. **Note**: an `index` doesn't have to be sequential integers. It can be whatever we want it to be, but integers and dates and timestamps are very common. \n",
    "\n",
    "Also, notice that the first record has an index of 0, not 1. If you are not familiar with computer science, it may surprise you that we like to start counting with the integer *ZERO*, not with *ONE*. Let's not get into the reason why.\n",
    "\n",
    "---"
   ]
  },
  {
   "cell_type": "markdown",
   "id": "93e333b8-1461-4a93-b452-9a1fd9443819",
   "metadata": {},
   "source": [
    "**How big is it?** If we want to see the size of the `DataFrame`, we have several options. If we just want to know how many records there are, we can use the `len()` built-in function for \"length\". If we want to know the shape, i.e., size in all dimensions, we use the `.shape` attribute of the pandas `DataFrame` object."
   ]
  },
  {
   "cell_type": "code",
   "execution_count": null,
   "id": "738e2132-eaae-4520-b52c-50129b71fae5",
   "metadata": {},
   "outputs": [],
   "source": [
    "# This will show us the length of the DataFrame, i.e., the number of records\n",
    "len(meteorites)"
   ]
  },
  {
   "cell_type": "code",
   "execution_count": null,
   "id": "89c4022a-13cf-4c4f-9f2f-cea56645ea61",
   "metadata": {},
   "outputs": [],
   "source": [
    "# This will show us the entire shape of the DataFrame\n",
    "meteorites.shape"
   ]
  },
  {
   "cell_type": "markdown",
   "id": "69b1be9e-fa30-49e2-ac34-a32cb0981f36",
   "metadata": {},
   "source": [
    "#### 1.3.2. `Series`"
   ]
  },
  {
   "cell_type": "markdown",
   "id": "75ab2b8b-b364-42e4-b45f-662b5a597d9d",
   "metadata": {},
   "source": [
    "Each column in the `DataFrame` is a pandas `Series`. A `Series` is a one dimensional collection of data, like a vector of data (if the mathematical concept of \"vector\" means anything to you)."
   ]
  },
  {
   "cell_type": "code",
   "execution_count": null,
   "id": "37de3160-a73c-4674-8c35-dfd186193e33",
   "metadata": {},
   "outputs": [],
   "source": [
    "# grab onto one of those columns and give it a label\n",
    "r_class = meteorites.recclass\n",
    "\n",
    "# print this new object to the screen\n",
    "print(r_class)\n",
    "\n",
    "# print the type of this object\n",
    "type(r_class)"
   ]
  },
  {
   "cell_type": "markdown",
   "id": "0ec291a6-7306-44d3-b247-45d496e47c6f",
   "metadata": {},
   "source": [
    "---\n",
    "\n",
    "Notice that it did not print out all 45716 entries in this `Series`. By default, the behavior of the `print()` function in this notebook is designed so that it won't print out very large amounts of data unless you force it to do so. Even then, there are limits to the amount of data that this notebook will print to the screen when prompted to do so.\n",
    "\n",
    "Also notice that this `Series` no longer has the column label \"recclass\" from the `DataFrame` attached to it. This is because a pandas `Series` really does behave like a one-dimensional array of values. We can even \"grab on to\" one or more of the values by integer reference... just like we can with an array."
   ]
  },
  {
   "cell_type": "code",
   "execution_count": null,
   "id": "5fd4e7fb-5956-46e7-ad72-5b6dd40daad7",
   "metadata": {},
   "outputs": [],
   "source": [
    "# print out the first element\n",
    "r_class[0]"
   ]
  },
  {
   "cell_type": "code",
   "execution_count": null,
   "id": "29507d96-7513-4112-85fe-2be4ddfb03b5",
   "metadata": {},
   "outputs": [],
   "source": [
    "# print out the first 20 elements\n",
    "r_class[0:20]"
   ]
  },
  {
   "cell_type": "markdown",
   "id": "388bc128-a984-45cd-9a48-3dd7aa9ea0ab",
   "metadata": {},
   "source": [
    "---\n",
    "\n",
    "There's actually another way to refer to a specific column that some people prefer to use."
   ]
  },
  {
   "cell_type": "code",
   "execution_count": null,
   "id": "76d47b05-2461-4e67-af75-15f8f82cd3a7",
   "metadata": {},
   "outputs": [],
   "source": [
    "# let's get the \"name\" column\n",
    "name = meteorites['name']\n",
    "\n",
    "# print the column\n",
    "print(name)\n",
    "\n",
    "# print the type (should be a Series object)\n",
    "type(name)"
   ]
  },
  {
   "cell_type": "markdown",
   "id": "cd8a2ce3-2242-4fdb-a09b-3ae835000ce4",
   "metadata": {},
   "source": [
    "#### 1.3.3. Wrap-up"
   ]
  },
  {
   "cell_type": "markdown",
   "id": "7461ccd6-6513-4d31-8acd-80c9594db4c7",
   "metadata": {},
   "source": [
    "So, this `DataFrame` of ours is simply ten `Series` of data appended together. If needed, we can create a list of column labels from our `DataFrame`."
   ]
  },
  {
   "cell_type": "code",
   "execution_count": null,
   "id": "ecc8945f-517a-48d9-a874-bd0a87cb253a",
   "metadata": {},
   "outputs": [],
   "source": [
    "# Get the column labels\n",
    "cols = meteorites.columns\n",
    "print(cols)"
   ]
  },
  {
   "cell_type": "code",
   "execution_count": null,
   "id": "f7fa407d-5297-431f-9944-c9a8d9a4c6bf",
   "metadata": {},
   "outputs": [],
   "source": [
    "# print out the first column label\n",
    "cols[0]"
   ]
  },
  {
   "cell_type": "code",
   "execution_count": null,
   "id": "efb7c8c3-51e5-41f2-9d49-ef759a678d39",
   "metadata": {},
   "outputs": [],
   "source": [
    "# print out the first three column labels\n",
    "cols[0:3]"
   ]
  },
  {
   "cell_type": "markdown",
   "id": "3b3c40b4-3e67-4c6b-9632-b847dbbff83d",
   "metadata": {},
   "source": [
    "In addition, we can also get the indices of any `DataFrame` and store them in a variable. In this case, doing so would hardly seem necessary since the indices are sequential integers. Nevertheless, if the indices were of some other data type, you might want or need that `index` stored in some variable to be used later."
   ]
  },
  {
   "cell_type": "code",
   "execution_count": null,
   "id": "c172845d-7e4d-4cee-b3e2-fd83ecf060b4",
   "metadata": {},
   "outputs": [],
   "source": [
    "# Get the indices\n",
    "idx = meteorites.index\n",
    "print(idx)"
   ]
  },
  {
   "cell_type": "code",
   "execution_count": null,
   "id": "03a68a20-7916-4992-92fe-61944a20a512",
   "metadata": {},
   "outputs": [],
   "source": [
    "# print out the 43rd index (remember... we start counting at zero!)\n",
    "idx[42]"
   ]
  },
  {
   "cell_type": "code",
   "execution_count": null,
   "id": "2ddb105d-f5c9-4dab-be29-7a6dbcd57875",
   "metadata": {},
   "outputs": [],
   "source": [
    "# print out the 9th through 18th indices\n",
    "idx[8:18]"
   ]
  },
  {
   "cell_type": "markdown",
   "id": "280eb381-bbec-42d6-bed9-ddd81f8c8afd",
   "metadata": {},
   "source": [
    "---\n",
    "\n",
    "If the way Python \"printed\" these indices (as a `RangeIndex()` object) seems weird to you, that's understandable. To explain why would push us too far afield for the scope of this tutorial. To convince you that the last command really did retrieve the 9th through the 18th indices, we can simply loop over this `RangeIndex()` object and print out each value one-by-one on its own line. Keep in mind that the actual numerical values of these idices should begin with 8 and end with 17, due to the zero indexing convention."
   ]
  },
  {
   "cell_type": "code",
   "execution_count": null,
   "id": "f3ef60e7-04d5-4b12-b40f-417bce1aa3a5",
   "metadata": {},
   "outputs": [],
   "source": [
    "for value in idx[8:18]:\n",
    "    print(value)"
   ]
  },
  {
   "cell_type": "markdown",
   "id": "688a60a3-2438-4e58-8455-05fecade7333",
   "metadata": {},
   "source": [
    "---\n",
    "\n",
    "Another thing we can do while exploting the data is to print out a basic information summary of the `DataFrame`."
   ]
  },
  {
   "cell_type": "code",
   "execution_count": null,
   "id": "c4cc331d-e8fd-4267-be06-6495ae7685e1",
   "metadata": {},
   "outputs": [],
   "source": [
    "meteorites.info()"
   ]
  },
  {
   "cell_type": "markdown",
   "id": "f62b40b2-95b6-40ec-aa70-7f19d858f91d",
   "metadata": {},
   "source": [
    "## 2. Basic Plotting"
   ]
  },
  {
   "cell_type": "markdown",
   "id": "b5c6af05-a549-446f-90a2-d0eb9f310b6f",
   "metadata": {},
   "source": [
    "pandas uses the matplotlib module to do all of its built-in plotting. This is not a tutorial on using matplotlib, so we won't explore the vast graphical capabilities of this module. Learning matplotlib is deserving of its own tutorial."
   ]
  },
  {
   "cell_type": "markdown",
   "id": "d481d9f3-5cce-4352-90c7-3eaa0a07890f",
   "metadata": {},
   "source": [
    "### 2.1. Plot a column"
   ]
  },
  {
   "cell_type": "markdown",
   "id": "8b9642ac-41cf-4d9b-98a7-4a26404a7ef9",
   "metadata": {},
   "source": [
    "Let's not forget what our dataset (`DataFrame`) looks like."
   ]
  },
  {
   "cell_type": "code",
   "execution_count": null,
   "id": "cac6997d-09df-4ac6-a3bc-13f1b976c295",
   "metadata": {},
   "outputs": [],
   "source": [
    "meteorites.head()"
   ]
  },
  {
   "cell_type": "markdown",
   "id": "9899f404-62d9-43f8-b8c7-4bf50395e71c",
   "metadata": {},
   "source": [
    "Let's plot the \"mass (g)\" column. Using matplotlib, a basic plot of this column is trivial. Now, because this column label actually has a space in the label, we cannot use the \"dot\" reference convention `meteorites.mass (g)` to refer to the column. We must use the \"bracket\" reference convention `meteorites['mass (g)']` to refer to the column. It would have been a good idea to \"clean up\" the column labels after loading in the dataset, but we can worry about that another day."
   ]
  },
  {
   "cell_type": "code",
   "execution_count": null,
   "id": "13cb6115-b160-49f7-8d8b-ffdc4d4ffedf",
   "metadata": {},
   "outputs": [],
   "source": [
    "meteorites['mass (g)'].plot()"
   ]
  },
  {
   "cell_type": "markdown",
   "id": "f2b4beb6-af26-4fd2-928e-92f98b3b6b12",
   "metadata": {},
   "source": [
    "As you can see, it's a fairly nice looking, yet basic, plot of the data in that column. It does not include a title, a legend, or axes labels. All of these attributes (and many more) can be controlled with various commands. I'll just explore a few of them.\n",
    "\n",
    "Let's begin with something as simple as changing the color of the plotted lines."
   ]
  },
  {
   "cell_type": "code",
   "execution_count": null,
   "id": "bc4973fb-201b-4fb5-b9a8-291e860e8c9f",
   "metadata": {},
   "outputs": [],
   "source": [
    "meteorites['mass (g)'].plot(color='blue')"
   ]
  },
  {
   "cell_type": "markdown",
   "id": "7e62ce95-436b-4928-8e08-233ddb8b39aa",
   "metadata": {},
   "source": [
    "---\n",
    "\n",
    "Let's run this command again. Now we'll add on labels for both axes, a title, and change the font size."
   ]
  },
  {
   "cell_type": "code",
   "execution_count": null,
   "id": "b7ebadd3-969c-4fa8-8918-e8a494950e91",
   "metadata": {},
   "outputs": [],
   "source": [
    "meteorites['mass (g)'].plot(color='blue', xlabel='index', ylabel='grams', title='METEORITE MASS', fontsize=16)"
   ]
  },
  {
   "cell_type": "markdown",
   "id": "9bd6502f-c339-47f3-b059-552f43fb0974",
   "metadata": {},
   "source": [
    "One thing we notice is that everytime we plot a figure Python likes to print out an `<AxesSubplot:>` output. This is not terribly annoying, but we can suppress it by adding a semicolon at the end of our line of code.\n",
    "\n",
    "Another thing we notice is that the `fontsize=16` parameter seems to only have affected the axes tick labels, not the axes labels themselves, nor the title. We can fix all of this. We'll also add a legend, although it is hardly necessary when plotting only one collection of data."
   ]
  },
  {
   "cell_type": "code",
   "execution_count": null,
   "id": "abc3c3ac-7d82-408d-a95e-b67e90da8a6b",
   "metadata": {},
   "outputs": [],
   "source": [
    "# save this column as a Series, so we refer to it more easily\n",
    "mass = meteorites['mass (g)']\n",
    "\n",
    "# create a figure and axes object\n",
    "fig, ax = plt.subplots()\n",
    "\n",
    "# plot the data in black and set the tick label font size and provide a text label for the legend\n",
    "mass.plot(color='black', fontsize=16, label='meteorite mass');\n",
    "\n",
    "# set the font sizes for the axes labels, title, and legend, and force the figure to show the legend\n",
    "plt.suptitle('METEORITE MASS', fontsize=20);\n",
    "plt.xlabel('index', fontsize=16);\n",
    "plt.ylabel('grams', fontsize=16);\n",
    "plt.legend(fontsize=12);"
   ]
  },
  {
   "cell_type": "markdown",
   "id": "1386b871-b2b4-4391-950d-667975cf9a59",
   "metadata": {},
   "source": [
    "One thing that we notice about this plot is that it's really only useful for seeing the frequency of meteorites that have a mass on the order of a few ten million grams, as indicated by the notation `1e7` at the top of the $y$-axis.\n",
    "\n",
    "Why don't we define small meteorites to be all meteorites with a mass less than or equal to 50 kilograms. Then we can plot the masses of those small meteorites."
   ]
  },
  {
   "cell_type": "code",
   "execution_count": null,
   "id": "f645a0ea-6dc4-45d1-9d22-bd3dea403934",
   "metadata": {},
   "outputs": [],
   "source": [
    "# create a new DataFrame having only the rows of the original in which the mass of the meteorite meets specification\n",
    "small_meteorites = meteorites[mass <= 50000]\n",
    "\n",
    "# print the bottom (a.k.a. tail) 10 records in the dataset\n",
    "small_meteorites.tail(10)"
   ]
  },
  {
   "cell_type": "markdown",
   "id": "5049c3e7-c9c8-4d79-920e-807d60885967",
   "metadata": {},
   "source": [
    "Now we can simply copy/paste the plotting code above and graph the masses of these small meteorites."
   ]
  },
  {
   "cell_type": "code",
   "execution_count": null,
   "id": "4062286b-6883-4a3c-a1da-0ec63fc9097c",
   "metadata": {},
   "outputs": [],
   "source": [
    "small_mass = small_meteorites['mass (g)']\n",
    "\n",
    "fig, ax = plt.subplots()\n",
    "small_mass.plot(color='black', fontsize=16, label='meteorite mass');\n",
    "plt.suptitle('METEORITE MASS', fontsize=20);\n",
    "plt.xlabel('index', fontsize=16);\n",
    "plt.ylabel('grams', fontsize=16);\n",
    "plt.legend(fontsize=12);"
   ]
  },
  {
   "cell_type": "markdown",
   "id": "0e3e913d-c892-4c8b-a4a6-09c44e2389f4",
   "metadata": {},
   "source": [
    "### 2.2. Plot multiple columns"
   ]
  },
  {
   "cell_type": "markdown",
   "id": "98673b32-e918-4238-a2b8-172fe59e2abc",
   "metadata": {},
   "source": [
    "It's also quite easy to plot multiple columns on the same graph. However, with this particular dataset it doesn't make sense to do so. It makes sense to graph the masses of the meteorites, but not the meteorite id numbers. It also doesn't make sense to graph the latitudes and longitudes of the geographical locations where the meteorites hit Earth. It might make sense to make some other kind of visual graph or visual aid of the locations but not really in line graph, which is what I'm demonstrating now.\n",
    "\n",
    "Nevertheless, I'll show the syntax to graph multiple columns. Let's begin with the basic plot of all columns that have a numerical data type. It really is quite simple."
   ]
  },
  {
   "cell_type": "code",
   "execution_count": null,
   "id": "3161b413-620c-44fa-9663-45a258329942",
   "metadata": {},
   "outputs": [],
   "source": [
    "meteorites.plot();"
   ]
  },
  {
   "cell_type": "markdown",
   "id": "5f428fd5-4ef9-4951-886c-24ac99073489",
   "metadata": {},
   "source": [
    "Of course we cannot tell much from the graph since the scales are all so different for these four columns. The id numbers are on the order of tens of thousands. The (large) meterite masses are on the order of tens of millions. The latitudes and longitudes take on positive/negative values with absolute values less than 180.\n",
    "\n",
    "How about we just take a quick look at the latitudes and longitudes in their own graph?"
   ]
  },
  {
   "cell_type": "code",
   "execution_count": null,
   "id": "a12a38dc-4817-4449-ab08-8d89f1cdd895",
   "metadata": {},
   "outputs": [],
   "source": [
    "meteorites[['reclat', 'reclong']].plot(color=('red', 'blue'));"
   ]
  },
  {
   "cell_type": "markdown",
   "id": "b4b936cc-9a13-4bdb-91d8-3dc68a1ecc9b",
   "metadata": {},
   "source": [
    "This plot really isn't very useful but it does illustrate the basic syntax for plotting mulitple `DataFrame` columns in the same graph. With some datasets this capability is quite useful, and we will revisit it on a different dataset later on.\n",
    "\n",
    "Why don't we take a quik look at a better (still not the best) way to visualize latitude/longitude data?"
   ]
  },
  {
   "cell_type": "code",
   "execution_count": null,
   "id": "79c53629-cebf-4134-b00d-ddd98ded2b4c",
   "metadata": {},
   "outputs": [],
   "source": [
    "# define two Series that we'll use for plotting\n",
    "lat = meteorites.reclat\n",
    "lon = meteorites.reclong\n",
    "\n",
    "# we'll make a scatter plot of the data using green circles with black edges\n",
    "plt.scatter(lat, lon, marker='o', color='green', edgecolors='black');"
   ]
  },
  {
   "cell_type": "markdown",
   "id": "60d98ecc-efd9-4f16-9237-e0536d987a21",
   "metadata": {},
   "source": [
    "Now this visual is **MUCH** better than the previous one. But I think we can do just a bit better! If you think about the way we visualize maps, you'll recall that we prefer to create them with the longitude along the horizontal and the latitude along the vertial. This appeals to our human notion of north being UP and south being DOWN. So, let's create the plot again, switching the places of `lat` and `lon`."
   ]
  },
  {
   "cell_type": "code",
   "execution_count": null,
   "id": "8d9047c8-fdac-4a89-9128-4790870cbdbf",
   "metadata": {},
   "outputs": [],
   "source": [
    "plt.scatter(lon, lat, marker='o', color='green', edgecolors='black');"
   ]
  },
  {
   "cell_type": "markdown",
   "id": "65022728-52b8-4cc8-a3ed-dbd7aed466d7",
   "metadata": {},
   "source": [
    "**WOW** now that visual looks familiar to us, right? Well, one thing I notice is the point way out on the right. This is a data value that has a mislabeled longitude. We can simply ignore it or re-plot the data and restrict the $x$-axis limits."
   ]
  },
  {
   "cell_type": "code",
   "execution_count": null,
   "id": "ebfae102-2e8c-43c8-9eb0-5dd51d6c7a97",
   "metadata": {},
   "outputs": [],
   "source": [
    "fig, ax = plt.subplots(figsize=(16.44, 8))\n",
    "plt.scatter(lon, lat, marker='o', color='green', edgecolors='black');\n",
    "plt.xlim([-200, 200]);"
   ]
  },
  {
   "cell_type": "markdown",
   "id": "40a522a5-d62a-411b-a804-2f9bff44d65d",
   "metadata": {},
   "source": [
    "That looks a lot better! The only thing that might make it look nicer is to graph it on top of an outline of Earth's land masses.\n",
    "\n",
    "Although it's unrelated to pandas and the reasons for giving this tutorial, it occurred to me that scientists who study meteorites only get to study a small portion of the ones that actually hit Earth... and this plot illustrates that point. The reason is quite simple... most of Earth is covered in water, and scientists don't find and collect data on meteorites that fall in the oceans. And apparently it's also difficult to find and study the ones that fall in remote locations... Alaska, upper 90% of Canada, Greenland, the jungles of sub-Saharan Africa, and the Amazon rainforest!"
   ]
  },
  {
   "cell_type": "markdown",
   "id": "2cb983b3-00d3-4691-a2c7-cafee42775f6",
   "metadata": {},
   "source": [
    "## 3. Downloading Data from the Internet"
   ]
  },
  {
   "cell_type": "markdown",
   "id": "af81499e-fd97-4d54-ab03-637c39b16516",
   "metadata": {},
   "source": [
    "So far we have done some very basic data exploration and plotting with a dataset we imported from a CSV file. There are many other file types that pandas can import data from, but Python also has the capability to download data directly from the internet. If you think about how you might download a file from the internet, you might wonder why one might want to write code that does the job. Afterall, all you have to do is navigate to a website that has the data you want and click a button. Then (depending on the size of the file) after a few seconds up to a few minutes the file is on your computer. You can move it to any directory you want and do whatever you want to do with the file... open it up in [RStudio](https://www.rstudio.com/) to do a regression or import it into a Python script to do machine learning. But there are plenty of reasons you might want to automate the downloading process:\n",
    "1. You want/need to download many similar files and don't want to waste the time required to click and wait, which could take hours or days.\n",
    "2. The file size is so large that in order to do whatever you want to do with it would require you to load a prohibitively large file into the RAM on your personal computer, so you decide to work on a large remote computer.\n",
    "3. Perhaps the file size itself is not prohibitively large, but the analysis that you want/need to do with the data is incredibly time intensive and you don't want to tie up your personal computer for hours or days, so you want to use a remote computer.\n",
    "4. The data analysis you are doing involves using data that is regularly being updated online, so it makes more sense to automate the retrieval of the data.\n",
    "\n",
    "Whatever the reason may be, let's delve into the process.\n",
    "\n",
    "---\n",
    "\n",
    "Now, in the first two sections, we looked at meteorite data that was downloaded from [NASA's open data website](https://data.nasa.gov/), but there are plenty of other curated data repositories online. Here are four others:\n",
    "1. The [NYC open data website](https://opendata.cityofnewyork.us/), which maintains thousands of datasets about all things New York City.\n",
    "2. [NOAA's open data website](https://www.ncdc.noaa.gov/cdo-web/), which maintains vast amounts of global weather data at the National Climatic Data Center.\n",
    "3. The [NCBI open data website](https://www.ncbi.nlm.nih.gov/datasets/), which is sponsored by the National Institutes of Health and maintains vast amounts of genomic data.\n",
    "4. [CDC's open data website](https://data.cdc.gov/), which houses more public health datasets than you could ever dream that existed.\n",
    "\n",
    "There are so many open data portals online today that it is practically impossible to find them all.\n",
    "\n",
    "You might think the key to downloading data from the internet is simply knowing the URL of the webpage and writing a one-line Python command to get that data. But, it is a little bit more complicated than a one-line read/import statement. Moreover, it turns out that there is not a *one-size-fits-all* methodolgy for retrieving data online. The key to doing this is undstanding (at least at a surface level) how Python interacts with webpages to retrieve webpage information and convert it into human understandable/usable text, e.g., a CSV file."
   ]
  },
  {
   "cell_type": "markdown",
   "id": "58775d66-6539-4ebc-91b2-474ab6e2c852",
   "metadata": {},
   "source": [
    "### 3.1. Download Weather Data"
   ]
  },
  {
   "cell_type": "markdown",
   "id": "475f977c-9c37-4368-9f3b-d17b6c2bc081",
   "metadata": {},
   "source": [
    "As a first example let's explore item number 2 listed above. We are going to use the [requests](https://requests.readthedocs.io/en/latest/) module to download one month of Pittsburgh weather data. We already imported this requests module into this notebook in our first code cell at the beginning of the tutorial. "
   ]
  },
  {
   "cell_type": "markdown",
   "id": "ac6a6fd4-dddb-4555-ae05-7944857f7257",
   "metadata": {},
   "source": [
    "#### 3.1.1. A Month of Data"
   ]
  },
  {
   "cell_type": "markdown",
   "id": "1a13149a-5148-40f5-b02f-c4cdc3bfb0de",
   "metadata": {},
   "source": [
    "We begin by defining a URL template that we'll use to interact with the data on NOAA's data website."
   ]
  },
  {
   "cell_type": "code",
   "execution_count": null,
   "id": "99a81b1a-87d9-47d9-968c-0d01f6ccc428",
   "metadata": {},
   "outputs": [],
   "source": [
    "url_template = 'https://www.ncdc.noaa.gov/cdo-web/api/v2/data?datasetid={data_id}&datatypeid={d_type}&'\\\n",
    "               'limit={max_items}&stationid={station_id}&startdate={start_date}&enddate={end_date}'"
   ]
  },
  {
   "cell_type": "markdown",
   "id": "dd58e4a4-4954-4911-b63a-5fa9a15c7c46",
   "metadata": {},
   "source": [
    "**Notes**:\n",
    "1. The first think you probably notice is that the URL is on two lines. This is purely aesthetic. The URL is so long that it exceeds the cell width of this notebook. This is common in programming. You can simply put the entire URL string on a single line, and to view it all you would simply scroll back-and-forth or change your font to be extrememly small. I don't like either of those options, so I write the URL string on two lines. In Python, when you write a single string across multiple lines, all you need to do is to place a `\\` character at each line break.\n",
    "2. The second thing you may (or may not) notice is the inclusion of parameter placeholder labels inside braces `{}` and following equal symbols `=`. These are simply variable names that we will assign values to below. You can place actual values for these variables in the URL template, but doing so kind of spoils the *automated* nature of this lesson.\n",
    "\n",
    "---\n",
    "\n",
    "These parameters are fairly self-explanatory, but if you really want to get into the details, you must consult the [online documentation](https://www.ncdc.noaa.gov/cdo-web/webservices/v2#data).\n",
    "\n",
    "Obviously we'll need to provide a uniquie identifier that tells Python which dataset you want to download. We'll have to manually find this `data_id` value by exploring NOAA's data website. I have already done this. We're going to use the [Global Historical Climatology Network - Daily](https://www.ncei.noaa.gov/metadata/geoportal/rest/metadata/item/gov.noaa.ncdc:C00861/html) which uses the unique identification `GHCND`."
   ]
  },
  {
   "cell_type": "code",
   "execution_count": null,
   "id": "a5ffdd1b-0545-43ca-be07-e9945375ed6a",
   "metadata": {},
   "outputs": [],
   "source": [
    "data_id = 'GHCND' # Global Historical Climatology Network - Daily"
   ]
  },
  {
   "cell_type": "markdown",
   "id": "43b41176-2765-4a85-8000-3c64e072109b",
   "metadata": {},
   "source": [
    "Next, we need to identify the specific data type(s) that we want to download. If you don't include this parameter in the URL template, all data types will be downloaded. For simplicity in this first example, let's just download the *maximum daily temperature* for each day in the dataset. The parameter value associated with this is `TMAX`. For a comprehensive list of all available data types in this dataset, you may consult the online documentation mentioned above or browse the [GHCND documentation](../GHCND_documentation.pdf) document included in this tutorial. If you want to download multiple data types (but not all of them), you simply make a \"chain\" of data types, using an ampersand `&` as a separator."
   ]
  },
  {
   "cell_type": "code",
   "execution_count": null,
   "id": "4be432ac-ef76-4bb6-826f-53f3120ec328",
   "metadata": {},
   "outputs": [],
   "source": [
    "d_type = 'TMAX' # maximum daily temperature"
   ]
  },
  {
   "cell_type": "markdown",
   "id": "d7f49699-e7c6-42b3-ab78-120cdb23e429",
   "metadata": {},
   "source": [
    "The `max_items` parameter simply communicates the maximum number of individual datum values that you want to download. Currently, the largest value you can use is 1000. The default is 25. Note that if you request two data types from the same day, it counts as 2 toward this limit, not 1. "
   ]
  },
  {
   "cell_type": "code",
   "execution_count": null,
   "id": "4f5bc91d-20c9-4dbf-95e6-ecd95508abd7",
   "metadata": {},
   "outputs": [],
   "source": [
    "max_items = 1000 # maximum number of results to download"
   ]
  },
  {
   "cell_type": "markdown",
   "id": "fb1c62c9-5b60-469f-81fd-48990cd80ac8",
   "metadata": {},
   "source": [
    "The `station_id` parameter indicates the weather station you are requesting data from. Obviously the weather in Nome, AK is not the same as the weather in Pittsburgh, PA. Moreover, some cities have multiple weather stations to select from. And, some weather stations aren't really in a town/city at all. But all of them have a unique identifier. I am going to collect data from a weather station along the Ohio River, just downstream from Pittsburgh, PA at the Emsworth Dam. It's unique identifier is `GHCND:USC00362574`."
   ]
  },
  {
   "cell_type": "code",
   "execution_count": null,
   "id": "c9415aa8-3fee-4866-90f0-0c6597f17512",
   "metadata": {},
   "outputs": [],
   "source": [
    "station_id = 'GHCND:USC00362574' # EMSWORTH L D OHIO RIVER, PA US"
   ]
  },
  {
   "cell_type": "markdown",
   "id": "52013e63-37c9-4cbb-bd68-f9f3cbd3e2bb",
   "metadata": {},
   "source": [
    "I believe that the `start_date` and `end_date` parameters are self-explanatory. Let's download the data for the whole month of June 2022. The date format is YYYY-MM-DD."
   ]
  },
  {
   "cell_type": "code",
   "execution_count": null,
   "id": "80328e3c-cb36-46c3-9638-80682a4b1f84",
   "metadata": {},
   "outputs": [],
   "source": [
    "start_date = '2022-06-01'\n",
    "end_date = '2022-06-30'"
   ]
  },
  {
   "cell_type": "markdown",
   "id": "f7039ad1-d175-4c82-b22b-a08718f0653e",
   "metadata": {},
   "source": [
    "We're almost there! Okay... so in order for Python to communicate in the best way possible with external servers (websites), it helps if Python \"tells\" the website a little bit of information about your specific web browser. This information will facilitate Python's interaction with the web content. Specifically, we want Python to convey our computer's \"User-Agent\". You probably don't know your computer's user agent, but it's easy enough to find. Google search \"my user agent\" and Google will tell you what it is. It will be a string (text) that describes your operating system and exact web browser version. Here is mine:"
   ]
  },
  {
   "cell_type": "code",
   "execution_count": null,
   "id": "00503316-27de-465c-940b-5c49151bb84a",
   "metadata": {},
   "outputs": [],
   "source": [
    "user_agent = 'Mozilla/5.0 (Macintosh; Intel Mac OS X 10_15_7) '\\\n",
    "             'AppleWebKit/537.36 (KHTML, like Gecko) '\\\n",
    "             'Chrome/103.0.0.0 Safari/537.36' # My HTTP user agent"
   ]
  },
  {
   "cell_type": "markdown",
   "id": "232b4b07-36c7-4366-ab93-78cc740c12fe",
   "metadata": {},
   "source": [
    "**Note**: Since it's rather long, I like to write it across several lines, but you don't need to do that if you don't want to.\n",
    "\n",
    "---\n",
    "\n",
    "One last thing is needed in order to make this all work smoothly. All of these big, curated data websites experience a large volume of data download requests. To limit access to their data servers, data portals employ the use of tokens. A token is kind of like a password that specifically identifies you as the person downloading the data. Tokens are not required with all data portals, but they are required for NOAA's website. For data portals that don't require them, if you request data without a token, the website will not prioritize your request. Long story short... you may wait a good bit of time until the website decides to start communicating with you. In fact, your request may even \"time out\" if the server is busy and you haven't provided a token. \n",
    "\n",
    "Getting a token to download NOAA data is free, quick, and easy. Visit [this](https://www.ncdc.noaa.gov/cdo-web/token) webpage on the NOAA website and enter your email address. If you don't want to get a token right now, then that is fine. You can just watch what we do. \n",
    "\n",
    "The token below is my personal token, please do not use it."
   ]
  },
  {
   "cell_type": "code",
   "execution_count": null,
   "id": "f909acb2-cdcb-46f6-8f42-2d358a64270e",
   "metadata": {},
   "outputs": [],
   "source": [
    "token = 'JKcyAfUrhkZwokgQQXYgVwlNiajndGlG' # My personal access token"
   ]
  },
  {
   "cell_type": "markdown",
   "id": "4b0b74a2-9078-4260-b3bd-bf7eed00e98d",
   "metadata": {},
   "source": [
    "We are finally ready to make the download request. As I mentioned above, we are going to use the (aptly named) Python module \"requests\". In our request, we'll provide our token and user agent in HTTP header."
   ]
  },
  {
   "cell_type": "code",
   "execution_count": null,
   "id": "3bfcc324-f405-4af8-98e9-4f17a835174b",
   "metadata": {},
   "outputs": [],
   "source": [
    "# the line below converts the URL template into the actual URL by supplying the values of the parameters\n",
    "url = url_template.format(data_id=data_id, d_type=d_type, max_items=max_items, station_id=station_id, \n",
    "                          start_date=start_date, end_date=end_date)\n",
    "\n",
    "# this is where we actually make the request to NOAA and save whatever comes back in the variable 'response'\n",
    "response = requests.get(url, headers={'User-Agent': user_agent, 'Token': token})"
   ]
  },
  {
   "cell_type": "markdown",
   "id": "c8d210a5-a98d-43fc-a51c-0f78e9a9f49b",
   "metadata": {},
   "source": [
    "Okay... so what kind of Python object is this `response`? Better yet, what does it look like? Let's see."
   ]
  },
  {
   "cell_type": "code",
   "execution_count": null,
   "id": "d16ddd0a-3034-4c27-b675-6bfae102aa50",
   "metadata": {},
   "outputs": [],
   "source": [
    "type(response)"
   ]
  },
  {
   "cell_type": "markdown",
   "id": "68ec6ae0-d32a-4bb1-9ef5-cd60f3f88b61",
   "metadata": {},
   "source": [
    "Well, it's a `Response` object... whatever that means. Let's print it and see what it looks like."
   ]
  },
  {
   "cell_type": "code",
   "execution_count": null,
   "id": "48333c51-cb35-45b7-ad17-9e730261001e",
   "metadata": {},
   "outputs": [],
   "source": [
    "print(response)"
   ]
  },
  {
   "cell_type": "markdown",
   "id": "6893bdd3-cac6-4991-a563-18e7ba01d7db",
   "metadata": {},
   "source": [
    "That didn't help either. Trying to print the response is just as cryptic as printing what type of object it is. Whenever this happens, one thing I always do is to check and see if this object is \"iterable\" (not irritable.. although some Python objects might make YOU this way) by attempting to loop over it and printing each item in it."
   ]
  },
  {
   "cell_type": "code",
   "execution_count": null,
   "id": "c8039647-bc35-4f41-b036-5c479314584d",
   "metadata": {},
   "outputs": [],
   "source": [
    "k = 1\n",
    "for item in response:\n",
    "    print(k, item)\n",
    "    k += 1"
   ]
  },
  {
   "cell_type": "markdown",
   "id": "a0588262-5645-417f-a4b3-7ca5254b425d",
   "metadata": {},
   "source": [
    "There are 26 items in this `Response` object. Upon close inspection, it's clear that each \"item\" in this response is simply a line of uniform length... like a line in a text file where the text wraps to the next line after a certain character count is reached. Just take a look at the line break between the first two lines. The word \"station\" has been broken into \"stati\" on line 1 and \"on\" on line 2.\n",
    "\n",
    "The data are not so useful in this form. Luckily, Python's json module has no problem converting this mess into something quite a bit nicer."
   ]
  },
  {
   "cell_type": "code",
   "execution_count": null,
   "id": "58d3444c-5ba8-4f85-9b3f-bbf813f81db8",
   "metadata": {},
   "outputs": [],
   "source": [
    "data = json.loads(response.text) # convert the Response object to a Python dictionary"
   ]
  },
  {
   "cell_type": "code",
   "execution_count": null,
   "id": "e8526ded-740a-43d7-bc40-a93e930474fd",
   "metadata": {},
   "outputs": [],
   "source": [
    "type(data)"
   ]
  },
  {
   "cell_type": "markdown",
   "id": "1c1a943e-138d-4380-b535-03dc29d7d0f2",
   "metadata": {},
   "source": [
    "This means that we have converted the response text into a Python dictionary, a.k.a., `dict`. Let's print it and look at it."
   ]
  },
  {
   "cell_type": "code",
   "execution_count": null,
   "id": "c25ed11a-c2ec-47f9-9e4e-d3693a5f318a",
   "metadata": {},
   "outputs": [],
   "source": [
    "data"
   ]
  },
  {
   "cell_type": "markdown",
   "id": "db91d5f3-b1d2-43dc-9fd8-0b334c7313ea",
   "metadata": {},
   "source": [
    "Now we are getting somewhere. These data are almost in a user-friendly format. \n",
    "\n",
    "The dictionary `data` has two keys: `'metadata'` and `'results'`. `'results'` is a list of dictionaries, where each dictionary reprsents a single data entry having the following keys: `'date'`, `'datatype'`, `'station'`, `'attributes'`, and `'value'`. The `'date'` includes the defualt time information, which we will strip away. The temperature value, i.e., `'TMAX'`, is in units of degrees Celsius times ten, so we will have to fix that.\n",
    "\n",
    "First, let's just convert the results into a pandas `DataFrame` and take a look at what we have."
   ]
  },
  {
   "cell_type": "code",
   "execution_count": null,
   "id": "1b7bdb8a-108c-4a6f-a047-16430a262679",
   "metadata": {},
   "outputs": [],
   "source": [
    "weather_scraped_raw = pd.DataFrame(data['results'])\n",
    "weather_scraped_raw.head() # look at top 5 records"
   ]
  },
  {
   "cell_type": "markdown",
   "id": "955c1d19-d2a7-4a4b-bf62-029c33649852",
   "metadata": {},
   "source": [
    "**NICE!** Well, now we are on the right track. It now appears that we have pretty much what we wanted, the maximum daily temperature for the month of June 2022 at that weather station just outside Pittsburgh, PA.\n",
    "\n",
    "But, we can make our `DataFrame` a little bit nicer. One way to fix up this `DataFrame` is to iterate over each item in it and build the components of a new (better) `DataFrame`. The fastest way to iterate over a pandas `DataFrame` is through what is called vectorization. We'll use the list of dictionaries stored in the variable `data['results']`.\n",
    "\n",
    "---\n",
    "\n",
    "The little bit of code below will loop over each record in the downloaded results and create a Python dictionary with more user-friendly column labels (*the dictionary keys*). Most of this script is very self-explanatory. The one item that may seem weird is the one where I convert the temperature to something that makes sense to us (Americans). Recall from above that (*by default*) the temperature downloaded from NOAA is in units of degrees Celsius times ten. I simply convert this into degrees Fahrenheit."
   ]
  },
  {
   "cell_type": "code",
   "execution_count": null,
   "id": "474886a1-94b2-49ec-b868-c481d79ce9fb",
   "metadata": {},
   "outputs": [],
   "source": [
    "temp = []\n",
    "for row in data['results']:\n",
    "    date = row['date'][0:10]\n",
    "    station = row['station'][6::]\n",
    "    tmax = round((row['value']/10)*1.8 + 32, 2)\n",
    "    temp.append({'DATE': date, 'STATION': station, 'TMAX': tmax, 'TMAX_ATTRIBUTES': row['attributes']})"
   ]
  },
  {
   "cell_type": "markdown",
   "id": "c2aa3038-d278-4766-9341-388d32ca1e20",
   "metadata": {},
   "source": [
    "Now we can use built-in pandas functionality to convert this LIST of DICTIONARIES (*each one corresponding to an individual record*) into a `DataFrame`. Instead of letting Python choose the default index of non-negative integers, I decided to make the date the index of my `DataFrame`. I think this makes the most sense."
   ]
  },
  {
   "cell_type": "code",
   "execution_count": null,
   "id": "55fec0aa-8e04-41cf-823e-c586b6403312",
   "metadata": {},
   "outputs": [],
   "source": [
    "weather_scraped = pd.DataFrame.from_records(temp, index='DATE')\n",
    "weather_scraped.head()"
   ]
  },
  {
   "cell_type": "markdown",
   "id": "c86fa2d4-7c62-4339-89a1-8ed108bffdaf",
   "metadata": {},
   "source": [
    "And there you have it! It must all seem incredibly complex the first time you see this, but with experience all of the little necessary tasks will become second nature to you.\n",
    "\n",
    "So... let's plot `TMAX`."
   ]
  },
  {
   "cell_type": "code",
   "execution_count": null,
   "id": "10ad3866-56a3-4859-ab8a-fcb14ec4a93d",
   "metadata": {},
   "outputs": [],
   "source": [
    "weather_scraped['TMAX'].plot(figsize=(15, 3), color='red');"
   ]
  },
  {
   "cell_type": "markdown",
   "id": "5e1e4e87-906c-40a8-90fd-bb51b6760e0d",
   "metadata": {},
   "source": [
    "When pandas uses matplotlib to make graphs of a column in a `DataFrame`, it always uses the index as the $x$-axis tick labels, unless you force it to use something else. This is another reason why using the date as the index is a good idea.\n",
    "\n",
    "---\n",
    "\n",
    "Let's make another request. This time we'll request two additional pieces of data on each day: minimum temperature `TMIN` and temperature at time of observation `TOBS`. We'll only need to modify the the `d_type` parameter before making the request. Then, once we get the response, we'll need a modified version of the code that converts the raw data into the nicer `DataFrame`. However, this modification is rather sophisticated for a novice Python-er in a pandas tutorial. Hence, I have saved the function, named `clean_df`, in the the Python script [helper.py](../helper.py). It was imported at the beginning of this tutorial."
   ]
  },
  {
   "cell_type": "code",
   "execution_count": null,
   "id": "5f775c8a-32c0-41c7-96e0-40ed97705148",
   "metadata": {},
   "outputs": [],
   "source": [
    "d_type = 'TMAX&datatypeid=TMIN&datatypeid=TOBS' # maximum daily temp & minimum daily temp & temperature at time of observation\n",
    "\n",
    "url = url_template.format(data_id=data_id, d_type=d_type, max_items=max_items, station_id=station_id, \n",
    "                          start_date=start_date, end_date=end_date)\n",
    "response = requests.get(url, headers={'User-Agent': user_agent, 'Token': token})\n",
    "data = json.loads(response.text)\n",
    "weather_scraped_raw = pd.DataFrame(data['results'])\n",
    "weather_scraped = clean_df(weather_scraped_raw)"
   ]
  },
  {
   "cell_type": "code",
   "execution_count": null,
   "id": "23f6132f-b8e3-43c1-b8d2-212c02782912",
   "metadata": {},
   "outputs": [],
   "source": [
    "weather_scraped.head(10)"
   ]
  },
  {
   "cell_type": "markdown",
   "id": "c0c17654-fa52-40eb-85aa-863897527c5e",
   "metadata": {},
   "source": [
    "That looks pretty good to me! Let's plot all three temperatures on the same graph."
   ]
  },
  {
   "cell_type": "code",
   "execution_count": null,
   "id": "616f31ff-50c7-469f-8ff6-5398f78b5980",
   "metadata": {},
   "outputs": [],
   "source": [
    "weather_scraped[['TMAX', 'TOBS', 'TMIN']].plot(figsize=(15, 3), color=('red', 'green', 'blue'), ylabel='\\xb0 Fahrenheit');"
   ]
  },
  {
   "cell_type": "markdown",
   "id": "2e1f54e3-77a1-4059-b304-46566c37ad4f",
   "metadata": {},
   "source": [
    "Even though it took only about one second or so to download the data, there's no need to download it again later on. We might as well save this nice looking `DataFrame` to a CSV file that we can open up at a later time and do whatever we want to do with it."
   ]
  },
  {
   "cell_type": "code",
   "execution_count": null,
   "id": "13ac79de-9768-48e9-a468-e6ee243dfbad",
   "metadata": {},
   "outputs": [],
   "source": [
    "weather_scraped.to_csv('../data/wx_pitt_pa_jun22.csv')"
   ]
  },
  {
   "cell_type": "markdown",
   "id": "d0de0c53-050f-4442-8fde-f061467bc4fa",
   "metadata": {},
   "source": [
    "#### 3.1.2. A Year of Data"
   ]
  },
  {
   "cell_type": "markdown",
   "id": "27cd934a-712b-4532-8ba8-fe74ac635c25",
   "metadata": {},
   "source": [
    "Now let's scrape a whole year's worth of weather data, specifically 2021 for the weather station defined above. Let's write a function that downloads all available data records for the Global Historical Climatology Network - Daily. Since we want all available data fields (and not just `TMAX`), we'll need to modify the URL a bit."
   ]
  },
  {
   "cell_type": "code",
   "execution_count": null,
   "id": "8c7b6bab-4697-48db-8610-c296458b7b2d",
   "metadata": {},
   "outputs": [],
   "source": [
    "def download_GHCND_weather(station, start, end):\n",
    "    # If we remove the 'datatypeid' keyword in the URL, it will download all available datatypes\n",
    "    url_template = 'https://www.ncdc.noaa.gov/cdo-web/api/v2/data?datasetid={data_id}&limit={max_items}&'\\\n",
    "                   'stationid={station_id}&startdate={start_date}&enddate={end_date}'\n",
    "    # Some things we are leaving unchanged from above and constant with regard to this function we are creating.\n",
    "    # The 'data_id' will be fixed as 'GHCND'. The 'max_items' will be fixed as 1000.\n",
    "    # We will pass the 'station_id', 'start_date', and 'end_date' parameters into the function.\n",
    "    url = url_template.format(data_id=data_id, max_items=max_items, station_id=station, \n",
    "                              start_date=start, end_date=end)\n",
    "    # The 'user_agent' and 'token' parameters will be the same as those above. We may consider them gloabal variables.\n",
    "    response = requests.get(url, headers={'User-Agent': user_agent, 'Token': token})\n",
    "    data = json.loads(response.text)\n",
    "    return data"
   ]
  },
  {
   "cell_type": "markdown",
   "id": "7b31de35-7ff6-4068-9fb1-ab1c4e90b3da",
   "metadata": {},
   "source": [
    "We can test that this function does the right thing:"
   ]
  },
  {
   "cell_type": "code",
   "execution_count": null,
   "id": "01402953-48a3-48c8-8015-d68bc9d2ef40",
   "metadata": {},
   "outputs": [],
   "source": [
    "# request the entire year's worth of weather data for that Pittsburgh weather station\n",
    "data = download_GHCND_weather('GHCND:USC00362574', '2021-01-01', '2021-12-31')\n",
    "print(data)"
   ]
  },
  {
   "cell_type": "markdown",
   "id": "b9fcae35-ff03-4c4c-93c5-1aaf23d6a796",
   "metadata": {},
   "source": [
    "---\n",
    "\n",
    "Let's turn this into a pandas `DataFrame` and take a look at the first 20 records."
   ]
  },
  {
   "cell_type": "code",
   "execution_count": null,
   "id": "7e84bba4-9e52-4641-9985-c206c648a968",
   "metadata": {},
   "outputs": [],
   "source": [
    "weather_scraped_raw = pd.DataFrame(data['results'])\n",
    "weather_scraped_raw.head(20)"
   ]
  },
  {
   "cell_type": "markdown",
   "id": "4ea6336f-6ac5-466e-8e95-ded10087b712",
   "metadata": {},
   "source": [
    "---\n",
    "\n",
    "Let's take a look at a list of unique values in the `datatype` column, and the number of entries for each one in the entire dataset."
   ]
  },
  {
   "cell_type": "code",
   "execution_count": null,
   "id": "225df3f0-e218-4b1e-bb6d-5065612cf5d4",
   "metadata": {},
   "outputs": [],
   "source": [
    "weather_scraped_raw['datatype'].value_counts()"
   ]
  },
  {
   "cell_type": "markdown",
   "id": "40cfdca1-421e-44b7-b906-c42a5fb75bd5",
   "metadata": {},
   "source": [
    "---\n",
    "\n",
    "And now let's take a look at the last 20 records in this dataset."
   ]
  },
  {
   "cell_type": "code",
   "execution_count": null,
   "id": "0662ea44-1ee7-4251-8478-fd40003a1351",
   "metadata": {},
   "outputs": [],
   "source": [
    "weather_scraped_raw.tail(20)"
   ]
  },
  {
   "cell_type": "markdown",
   "id": "f3b6722d-b50e-4b4e-bea8-cc92403650fe",
   "metadata": {},
   "source": [
    "Several things are quickly noticed after a brief data exploration:\n",
    "1. there are exactly 1000 records (as expected) indexed from 0 to 999;\n",
    "2. the final data value is on June 21, 2021, not on December 31, 2021; \n",
    "3. there is an unexpected value of `datatype` called `WT01` with 8 records in the dataset. \n",
    "\n",
    "The reason why we were not successful in downloading the entire year's worth of data is because (usually) there are six data entries for each day: \n",
    "1. `PRCP` - precipitation, \n",
    "2. `SNOW` - snow, \n",
    "3. `SNWD` - snow depth, \n",
    "4. `TMAX` - maximum temperature, \n",
    "5. `TMIN` - minimum temperature,\n",
    "6. `TOBS` - temperature at time of observation. \n",
    "\n",
    "But, if you recall from above, `max_items = 1000` so that's the maximum number of data records we are allowed to download. This value cannot be set to a greater value. \n",
    "\n",
    "We also notice that `SNOW` is missing 2 entries, and `SNWD` is missing 3 entries compared to the other typical values. The extra `PRCP` is the only value downloaded on June 21, 2021; it represents the 1000th (and final) data record downloaded. In order to understand the expected behavior of the request, I consulted the documentation that thoroughly details all of the information associated witht the `GHCND` dataset. In fact, I was able to determine that `WT01` stands for \"*fog, ice fog, or freezing fog (may include heavy fog)*\".\n",
    "\n",
    "---\n",
    "\n",
    "In order to dowload the entire year's worth of data, we'll have to make multiple calls to the function. Since we cannot do it in two function calls, I'll do it in three calls of four months each. After we do that, we'll simply concatenate them into one `DataFrame`."
   ]
  },
  {
   "cell_type": "code",
   "execution_count": null,
   "id": "51d1d945-6183-4101-aeef-8eb496717734",
   "metadata": {},
   "outputs": [],
   "source": [
    "data1 = download_GHCND_weather('GHCND:USC00362574', '2021-01-01', '2021-04-30')\n",
    "data2 = download_GHCND_weather('GHCND:USC00362574', '2021-05-01', '2021-08-31')\n",
    "data3 = download_GHCND_weather('GHCND:USC00362574', '2021-09-01', '2021-12-31')\n",
    "\n",
    "weather_jan_apr = pd.DataFrame(data1['results'])\n",
    "weather_may_aug = pd.DataFrame(data2['results'])\n",
    "weather_sep_dec = pd.DataFrame(data3['results'])\n",
    "\n",
    "weather_scraped_raw = pd.concat([weather_jan_apr, weather_may_aug, weather_sep_dec], ignore_index=True)\n",
    "weather_scraped_raw.head(20)"
   ]
  },
  {
   "cell_type": "code",
   "execution_count": null,
   "id": "ef11b6f0-6dda-4617-b0fa-3b4b9039f992",
   "metadata": {},
   "outputs": [],
   "source": [
    "weather_scraped_raw.tail(20)"
   ]
  },
  {
   "cell_type": "code",
   "execution_count": null,
   "id": "4328a584-b614-4aec-98d1-0605f9efa3d8",
   "metadata": {},
   "outputs": [],
   "source": [
    "weather_scraped_raw.info()"
   ]
  },
  {
   "cell_type": "markdown",
   "id": "4800d2d2-a203-4fa8-97f1-767d1e97a35d",
   "metadata": {},
   "source": [
    "---\n",
    "\n",
    "Now we want to turn this `DataFrame` of raw data into a nicer looking `DataFrame` like we did above. We just need call on our helper Python script."
   ]
  },
  {
   "cell_type": "code",
   "execution_count": null,
   "id": "e43fcd90-e36e-42f9-8246-2a31c7a920ef",
   "metadata": {},
   "outputs": [],
   "source": [
    "weather_scraped = clean_df(weather_scraped_raw)\n",
    "weather_scraped.head(20)"
   ]
  },
  {
   "cell_type": "code",
   "execution_count": null,
   "id": "ace52ead-4ca6-4a0e-aaaf-fc0bc9019586",
   "metadata": {},
   "outputs": [],
   "source": [
    "weather_scraped.tail(10)"
   ]
  },
  {
   "cell_type": "code",
   "execution_count": null,
   "id": "dbf9c411-8e81-4e71-8df5-fc3ab4df9501",
   "metadata": {},
   "outputs": [],
   "source": [
    "weather_scraped.info()"
   ]
  },
  {
   "cell_type": "markdown",
   "id": "9c1fbb87-2fdc-4b8d-a01e-77063b15b9a4",
   "metadata": {},
   "source": [
    "---\n",
    "\n",
    "Now let's plot the maximum and minimum daily temperatures for the whole year."
   ]
  },
  {
   "cell_type": "code",
   "execution_count": null,
   "id": "de9d2a6b-2a0a-4f7b-a2e5-f11afe3d7f58",
   "metadata": {},
   "outputs": [],
   "source": [
    "weather_scraped[['TMAX', 'TMIN']].plot(figsize=(20, 5), color=('red', 'blue'), ylabel='\\xb0 Fahrenheit');"
   ]
  },
  {
   "cell_type": "code",
   "execution_count": null,
   "id": "e31a3001-53f4-4743-a806-e8284a146b78",
   "metadata": {},
   "outputs": [],
   "source": [
    "weather_scraped.to_csv('../data/wx_pitt_pa_2021.csv')"
   ]
  },
  {
   "cell_type": "markdown",
   "id": "c7261bdc-86b5-4aad-9989-1a7282c25336",
   "metadata": {},
   "source": [
    "### 3.2. Download NYC Department of Correction Data"
   ]
  },
  {
   "cell_type": "markdown",
   "id": "ec08bb4d-15c2-4f56-bccc-b35e3410a187",
   "metadata": {},
   "source": [
    "Now let us change our dataset again. This time we'll download data from the NYC open data website. The website has a tremendous variety of dataset genres to choose from. I am going to select a dataset that provides details about *most* of the inmates that are currently in custody of the New York City Department of Correction.\n",
    "\n",
    "We could download the dataset directly by visiting the dataset's [webpage](https://data.cityofnewyork.us/Public-Safety/Daily-Inmates-In-Custody/7479-ugqb), but I want to illustrate how to download it directly using a Python package. We'll get to that in a few moments. First, let's click the link and take a look at the information provided about this dataset on the webpage.\n",
    "\n",
    "As we can see, the dataset that we are going to download excludes inmate data from *sealed cases*. The page also shows us that the dataset comes with a [Disclaimer.docx](https://data.cityofnewyork.us/api/views/7479-ugqb/files/44b5d821-03e0-42a7-b255-364a17d1c6e1?download=true&filename=Disclaimer.docx) document. Moreover, if we scroll down the webpage we can see the number of rows and columns of this dataset and even a preview of the dataset. So, let's download the data and take a look at it.\n",
    "\n",
    "---\n",
    "\n",
    "When we downloaded the NOAA weather data, we used Python's *requests* module. This time we are going to use a different module, but the process will mostly look the same. It turns out that many open data portals have aligned their data servers with what is called the [Socrata Open Data API](https://dev.socrata.com/), which is often referred to as **SODA**. Python developers have created a very nice module that behaves (in many regards) much like the requests module in order to allow for simplified data retrieval from data sites that use SODA. It turns out that this Python SODA module actually makes use of the requests module in the background. Let's import the SODA module now, since it was not imported earlier."
   ]
  },
  {
   "cell_type": "code",
   "execution_count": 2,
   "id": "531db0ff-124d-488d-898b-5d55b62d37c8",
   "metadata": {},
   "outputs": [],
   "source": [
    "from sodapy import Socrata # client for working with the Socrata Open Data API"
   ]
  },
  {
   "cell_type": "markdown",
   "id": "c3fb9841-4d94-4566-885d-caf3675bcf16",
   "metadata": {},
   "source": [
    "One of the differences between using *requests* to download weather data from NOAA and using SODA to download data from the NYC open data website is that NOAA required us to make the request using a token. When using SODA, developers are encouraged to use an application token, but it is not required.\n",
    "\n",
    "Generally speaking, developers who make requests using a token will not be subject to throttling (*limitations placed on download requests*), but developers who make requests without a token will be subject to throttling. Since we are only downloading a single dataset, and it is not very large, we are not going to bother registering a token on the Socrata website. Unless the server is quite busy when we make our request, we won't experience any throttling. Even though we won't be given priority, the download should still happen instantaneously, for all intents and purposes.\n",
    "\n",
    "When we download data without a token, we are considered an *unauthenticated client*. Unauthenticated clients are only allowed to download public datasets. If we want to download non-public data, then we would need to be an *authenticated client*. Not only would we need an application token, but we'd also need a login ID and password to the data sever we were requesting data from.\n",
    "\n",
    "---\n",
    "\n",
    "Let's get started with the details. We start by creating an instance of the `Socrata` object that we imported above. When we create such an instance, the first parameter is always the website where the dataset of interest is located. The `timeout` parameter controls how long we are willing to wait in order to get a response from the data server."
   ]
  },
  {
   "cell_type": "code",
   "execution_count": 3,
   "id": "10bdf157-9d5c-4213-a378-c1b682d2ce44",
   "metadata": {},
   "outputs": [
    {
     "name": "stderr",
     "output_type": "stream",
     "text": [
      "WARNING:root:Requests made without an app_token will be subject to strict throttling limits.\n"
     ]
    }
   ],
   "source": [
    "# Example authenticated client (needed for non-public datasets):\n",
    "# client = Socrata('data.cityofnewyork.us', MyAppToken, userame=\"user@example.com\", password=\"AFakePassword\")\n",
    "\n",
    "# Unauthenticated client only works with public data sets.\n",
    "# Note 'None' in place of application token, and no username or password:\n",
    "client = Socrata('data.cityofnewyork.us', None, timeout=1000)"
   ]
  },
  {
   "cell_type": "markdown",
   "id": "4eecac80-3a90-40c2-97a8-a9cc85d47bf7",
   "metadata": {},
   "source": [
    "Now we are ready to retrieve the data itself. In this next cell we call the function that *gets* the data and saves it to a variable name of our choosing here in our workspace. The first parameter is the unique dataset identifier. To find it, we simply need to look at the data's webpage address: `https://data.cityofnewyork.us/Public-Safety/Daily-Inmates-In-Custody/7479-ugqb`. The characters at the very end of this address **7479-ugqb** are the dataset's identification. We'll also limit our download to include no more than 20,000 records."
   ]
  },
  {
   "cell_type": "code",
   "execution_count": 4,
   "id": "d14f5054-641e-469c-9e16-5f42f206eda1",
   "metadata": {},
   "outputs": [],
   "source": [
    "# First 20,000 results\n",
    "# They are returned as JSON from the Socrata API.\n",
    "# They are converted to a Python list of dictionaries by sodapy.\n",
    "results = client.get('7479-ugqb', limit=20000)"
   ]
  },
  {
   "cell_type": "markdown",
   "id": "06df0402-75d6-413c-ad62-52593b90dda0",
   "metadata": {},
   "source": [
    "Let's do a basic exploration of these two objects, `client` and `results` that we have created by printing their object type and then the object itself to the screen."
   ]
  },
  {
   "cell_type": "code",
   "execution_count": 5,
   "id": "4bcd2b72-769a-42fe-8a94-e499e50c10e5",
   "metadata": {},
   "outputs": [
    {
     "name": "stdout",
     "output_type": "stream",
     "text": [
      "The variable 'client' is of type: <class 'sodapy.socrata.Socrata'>\n",
      "The variable 'results' is of type: <class 'list'>\n"
     ]
    }
   ],
   "source": [
    "print(\"The variable 'client' is of type:\", type(client))\n",
    "print(\"The variable 'results' is of type:\", type(results))"
   ]
  },
  {
   "cell_type": "code",
   "execution_count": 6,
   "id": "dc791fae-7fe6-4b99-9af8-56d46759479a",
   "metadata": {},
   "outputs": [
    {
     "data": {
      "text/plain": [
       "[{'inmateid': '20216388',\n",
       "  'admitted_dt': '2021-11-14T12:28:56.000',\n",
       "  'custody_level': 'MIN',\n",
       "  'bradh': 'Y',\n",
       "  'race': 'O',\n",
       "  'gender': 'M',\n",
       "  'age': '25',\n",
       "  'inmate_status_code': 'DE',\n",
       "  'sealed': 'N',\n",
       "  'srg_flg': 'N',\n",
       "  'top_charge': '220.39',\n",
       "  'infraction': 'N'},\n",
       " {'inmateid': '20194796',\n",
       "  'admitted_dt': '2020-12-10T12:55:00.000',\n",
       "  'custody_level': 'MAX',\n",
       "  'bradh': 'N',\n",
       "  'race': 'B',\n",
       "  'gender': 'M',\n",
       "  'age': '33',\n",
       "  'inmate_status_code': 'DE',\n",
       "  'sealed': 'N',\n",
       "  'srg_flg': 'N',\n",
       "  'top_charge': '125.25',\n",
       "  'infraction': 'Y'},\n",
       " {'inmateid': '61122',\n",
       "  'admitted_dt': '2020-11-19T10:58:13.000',\n",
       "  'custody_level': 'MAX',\n",
       "  'bradh': 'Y',\n",
       "  'race': 'B',\n",
       "  'gender': 'M',\n",
       "  'age': '40',\n",
       "  'inmate_status_code': 'DNS',\n",
       "  'sealed': 'N',\n",
       "  'srg_flg': 'N',\n",
       "  'infraction': 'Y'}]"
      ]
     },
     "execution_count": 6,
     "metadata": {},
     "output_type": "execute_result"
    }
   ],
   "source": [
    "results[0:3]"
   ]
  },
  {
   "cell_type": "markdown",
   "id": "898bcda2-d3f9-46e1-bbd9-acc5e1fde43f",
   "metadata": {},
   "source": [
    "---\n",
    "\n",
    "It should be no surprise that the `Socrata` object itself is of little use to us. Printing the list of dictionaries contained in `results` shows us all of the data, but it's not in a very useful form. Again, this is where pandas helps us out. Let's convert it into a `DataFrame`."
   ]
  },
  {
   "cell_type": "code",
   "execution_count": 7,
   "id": "a4f5f926-8798-4d9b-8413-de7f7d1a1485",
   "metadata": {},
   "outputs": [],
   "source": [
    "# Convert to pandas DataFrame\n",
    "inmates = pd.DataFrame.from_records(results)"
   ]
  },
  {
   "cell_type": "code",
   "execution_count": 8,
   "id": "4b38b812-3698-465b-b576-b0a8269084bb",
   "metadata": {},
   "outputs": [
    {
     "data": {
      "text/html": [
       "<div>\n",
       "<style scoped>\n",
       "    .dataframe tbody tr th:only-of-type {\n",
       "        vertical-align: middle;\n",
       "    }\n",
       "\n",
       "    .dataframe tbody tr th {\n",
       "        vertical-align: top;\n",
       "    }\n",
       "\n",
       "    .dataframe thead th {\n",
       "        text-align: right;\n",
       "    }\n",
       "</style>\n",
       "<table border=\"1\" class=\"dataframe\">\n",
       "  <thead>\n",
       "    <tr style=\"text-align: right;\">\n",
       "      <th></th>\n",
       "      <th>inmateid</th>\n",
       "      <th>admitted_dt</th>\n",
       "      <th>custody_level</th>\n",
       "      <th>bradh</th>\n",
       "      <th>race</th>\n",
       "      <th>gender</th>\n",
       "      <th>age</th>\n",
       "      <th>inmate_status_code</th>\n",
       "      <th>sealed</th>\n",
       "      <th>srg_flg</th>\n",
       "      <th>top_charge</th>\n",
       "      <th>infraction</th>\n",
       "    </tr>\n",
       "  </thead>\n",
       "  <tbody>\n",
       "    <tr>\n",
       "      <th>0</th>\n",
       "      <td>20216388</td>\n",
       "      <td>2021-11-14T12:28:56.000</td>\n",
       "      <td>MIN</td>\n",
       "      <td>Y</td>\n",
       "      <td>O</td>\n",
       "      <td>M</td>\n",
       "      <td>25</td>\n",
       "      <td>DE</td>\n",
       "      <td>N</td>\n",
       "      <td>N</td>\n",
       "      <td>220.39</td>\n",
       "      <td>N</td>\n",
       "    </tr>\n",
       "    <tr>\n",
       "      <th>1</th>\n",
       "      <td>20194796</td>\n",
       "      <td>2020-12-10T12:55:00.000</td>\n",
       "      <td>MAX</td>\n",
       "      <td>N</td>\n",
       "      <td>B</td>\n",
       "      <td>M</td>\n",
       "      <td>33</td>\n",
       "      <td>DE</td>\n",
       "      <td>N</td>\n",
       "      <td>N</td>\n",
       "      <td>125.25</td>\n",
       "      <td>Y</td>\n",
       "    </tr>\n",
       "    <tr>\n",
       "      <th>2</th>\n",
       "      <td>61122</td>\n",
       "      <td>2020-11-19T10:58:13.000</td>\n",
       "      <td>MAX</td>\n",
       "      <td>Y</td>\n",
       "      <td>B</td>\n",
       "      <td>M</td>\n",
       "      <td>40</td>\n",
       "      <td>DNS</td>\n",
       "      <td>N</td>\n",
       "      <td>N</td>\n",
       "      <td>NaN</td>\n",
       "      <td>Y</td>\n",
       "    </tr>\n",
       "    <tr>\n",
       "      <th>3</th>\n",
       "      <td>20205780</td>\n",
       "      <td>2021-04-17T20:46:30.000</td>\n",
       "      <td>MAX</td>\n",
       "      <td>Y</td>\n",
       "      <td>B</td>\n",
       "      <td>M</td>\n",
       "      <td>26</td>\n",
       "      <td>DE</td>\n",
       "      <td>N</td>\n",
       "      <td>Y</td>\n",
       "      <td>120.10</td>\n",
       "      <td>N</td>\n",
       "    </tr>\n",
       "    <tr>\n",
       "      <th>4</th>\n",
       "      <td>33590</td>\n",
       "      <td>2019-12-11T16:10:00.000</td>\n",
       "      <td>MAX</td>\n",
       "      <td>N</td>\n",
       "      <td>B</td>\n",
       "      <td>M</td>\n",
       "      <td>37</td>\n",
       "      <td>DE</td>\n",
       "      <td>N</td>\n",
       "      <td>Y</td>\n",
       "      <td>265.03</td>\n",
       "      <td>Y</td>\n",
       "    </tr>\n",
       "    <tr>\n",
       "      <th>...</th>\n",
       "      <td>...</td>\n",
       "      <td>...</td>\n",
       "      <td>...</td>\n",
       "      <td>...</td>\n",
       "      <td>...</td>\n",
       "      <td>...</td>\n",
       "      <td>...</td>\n",
       "      <td>...</td>\n",
       "      <td>...</td>\n",
       "      <td>...</td>\n",
       "      <td>...</td>\n",
       "      <td>...</td>\n",
       "    </tr>\n",
       "    <tr>\n",
       "      <th>5675</th>\n",
       "      <td>20199431</td>\n",
       "      <td>2018-10-26T01:18:21.000</td>\n",
       "      <td>MED</td>\n",
       "      <td>N</td>\n",
       "      <td>B</td>\n",
       "      <td>M</td>\n",
       "      <td>59</td>\n",
       "      <td>DE</td>\n",
       "      <td>N</td>\n",
       "      <td>N</td>\n",
       "      <td>130.96</td>\n",
       "      <td>N</td>\n",
       "    </tr>\n",
       "    <tr>\n",
       "      <th>5676</th>\n",
       "      <td>20213523</td>\n",
       "      <td>2021-03-24T17:26:17.000</td>\n",
       "      <td>MED</td>\n",
       "      <td>N</td>\n",
       "      <td>O</td>\n",
       "      <td>M</td>\n",
       "      <td>67</td>\n",
       "      <td>DE</td>\n",
       "      <td>N</td>\n",
       "      <td>N</td>\n",
       "      <td>130.96</td>\n",
       "      <td>N</td>\n",
       "    </tr>\n",
       "    <tr>\n",
       "      <th>5677</th>\n",
       "      <td>145551</td>\n",
       "      <td>2019-06-02T20:01:48.000</td>\n",
       "      <td>MED</td>\n",
       "      <td>N</td>\n",
       "      <td>B</td>\n",
       "      <td>M</td>\n",
       "      <td>43</td>\n",
       "      <td>DE</td>\n",
       "      <td>N</td>\n",
       "      <td>N</td>\n",
       "      <td>110-125.27</td>\n",
       "      <td>Y</td>\n",
       "    </tr>\n",
       "    <tr>\n",
       "      <th>5678</th>\n",
       "      <td>164367</td>\n",
       "      <td>2022-02-25T19:15:16.000</td>\n",
       "      <td>MIN</td>\n",
       "      <td>N</td>\n",
       "      <td>B</td>\n",
       "      <td>M</td>\n",
       "      <td>32</td>\n",
       "      <td>DE</td>\n",
       "      <td>N</td>\n",
       "      <td>N</td>\n",
       "      <td>140.25</td>\n",
       "      <td>N</td>\n",
       "    </tr>\n",
       "    <tr>\n",
       "      <th>5679</th>\n",
       "      <td>24839</td>\n",
       "      <td>2018-07-11T01:29:00.000</td>\n",
       "      <td>MAX</td>\n",
       "      <td>Y</td>\n",
       "      <td>B</td>\n",
       "      <td>M</td>\n",
       "      <td>37</td>\n",
       "      <td>DE</td>\n",
       "      <td>N</td>\n",
       "      <td>N</td>\n",
       "      <td>110-125.26</td>\n",
       "      <td>Y</td>\n",
       "    </tr>\n",
       "  </tbody>\n",
       "</table>\n",
       "<p>5680 rows × 12 columns</p>\n",
       "</div>"
      ],
      "text/plain": [
       "      inmateid              admitted_dt custody_level bradh race gender age  \\\n",
       "0     20216388  2021-11-14T12:28:56.000           MIN     Y    O      M  25   \n",
       "1     20194796  2020-12-10T12:55:00.000           MAX     N    B      M  33   \n",
       "2        61122  2020-11-19T10:58:13.000           MAX     Y    B      M  40   \n",
       "3     20205780  2021-04-17T20:46:30.000           MAX     Y    B      M  26   \n",
       "4        33590  2019-12-11T16:10:00.000           MAX     N    B      M  37   \n",
       "...        ...                      ...           ...   ...  ...    ...  ..   \n",
       "5675  20199431  2018-10-26T01:18:21.000           MED     N    B      M  59   \n",
       "5676  20213523  2021-03-24T17:26:17.000           MED     N    O      M  67   \n",
       "5677    145551  2019-06-02T20:01:48.000           MED     N    B      M  43   \n",
       "5678    164367  2022-02-25T19:15:16.000           MIN     N    B      M  32   \n",
       "5679     24839  2018-07-11T01:29:00.000           MAX     Y    B      M  37   \n",
       "\n",
       "     inmate_status_code sealed srg_flg  top_charge infraction  \n",
       "0                    DE      N       N      220.39          N  \n",
       "1                    DE      N       N      125.25          Y  \n",
       "2                   DNS      N       N         NaN          Y  \n",
       "3                    DE      N       Y      120.10          N  \n",
       "4                    DE      N       Y      265.03          Y  \n",
       "...                 ...    ...     ...         ...        ...  \n",
       "5675                 DE      N       N      130.96          N  \n",
       "5676                 DE      N       N      130.96          N  \n",
       "5677                 DE      N       N  110-125.27          Y  \n",
       "5678                 DE      N       N      140.25          N  \n",
       "5679                 DE      N       N  110-125.26          Y  \n",
       "\n",
       "[5680 rows x 12 columns]"
      ]
     },
     "execution_count": 8,
     "metadata": {},
     "output_type": "execute_result"
    }
   ],
   "source": [
    "inmates"
   ]
  },
  {
   "cell_type": "code",
   "execution_count": 9,
   "id": "b6248409-7d34-4610-8863-ace8acdee0d1",
   "metadata": {},
   "outputs": [
    {
     "data": {
      "text/plain": [
       "inmateid              object\n",
       "admitted_dt           object\n",
       "custody_level         object\n",
       "bradh                 object\n",
       "race                  object\n",
       "gender                object\n",
       "age                   object\n",
       "inmate_status_code    object\n",
       "sealed                object\n",
       "srg_flg               object\n",
       "top_charge            object\n",
       "infraction            object\n",
       "dtype: object"
      ]
     },
     "execution_count": 9,
     "metadata": {},
     "output_type": "execute_result"
    }
   ],
   "source": [
    "inmates.dtypes"
   ]
  },
  {
   "cell_type": "code",
   "execution_count": 10,
   "id": "31f05524-8129-4f61-bbff-77a9345a9a0d",
   "metadata": {},
   "outputs": [
    {
     "name": "stdout",
     "output_type": "stream",
     "text": [
      "<class 'pandas.core.frame.DataFrame'>\n",
      "RangeIndex: 5680 entries, 0 to 5679\n",
      "Data columns (total 12 columns):\n",
      " #   Column              Non-Null Count  Dtype \n",
      "---  ------              --------------  ----- \n",
      " 0   inmateid            5680 non-null   object\n",
      " 1   admitted_dt         5680 non-null   object\n",
      " 2   custody_level       5302 non-null   object\n",
      " 3   bradh               5680 non-null   object\n",
      " 4   race                5671 non-null   object\n",
      " 5   gender              5671 non-null   object\n",
      " 6   age                 5680 non-null   object\n",
      " 7   inmate_status_code  5680 non-null   object\n",
      " 8   sealed              5680 non-null   object\n",
      " 9   srg_flg             5680 non-null   object\n",
      " 10  top_charge          5462 non-null   object\n",
      " 11  infraction          5680 non-null   object\n",
      "dtypes: object(12)\n",
      "memory usage: 532.6+ KB\n"
     ]
    }
   ],
   "source": [
    "inmates.info()"
   ]
  },
  {
   "cell_type": "code",
   "execution_count": 11,
   "id": "59c6ab4d-509c-4e05-8ad3-ac7838d8216e",
   "metadata": {},
   "outputs": [
    {
     "data": {
      "text/plain": [
       "M    5327\n",
       "F     344\n",
       "Name: gender, dtype: int64"
      ]
     },
     "execution_count": 11,
     "metadata": {},
     "output_type": "execute_result"
    }
   ],
   "source": [
    "inmates.gender.value_counts()"
   ]
  },
  {
   "cell_type": "code",
   "execution_count": 12,
   "id": "332f920b-9149-445e-88f1-0e2c39a8340e",
   "metadata": {},
   "outputs": [
    {
     "data": {
      "text/plain": [
       "B    3353\n",
       "O    1688\n",
       "W     501\n",
       "A     103\n",
       "I      15\n",
       "U      11\n",
       "Name: race, dtype: int64"
      ]
     },
     "execution_count": 12,
     "metadata": {},
     "output_type": "execute_result"
    }
   ],
   "source": [
    "inmates.race.value_counts()"
   ]
  },
  {
   "cell_type": "code",
   "execution_count": 18,
   "id": "c71b9610-8ba0-4029-a133-9f37b547190d",
   "metadata": {},
   "outputs": [],
   "source": [
    "inmates['age'] = pd.to_numeric(inmates['age'])"
   ]
  },
  {
   "cell_type": "code",
   "execution_count": 19,
   "id": "f4af86e9-934b-4d7a-a477-f22263708c0d",
   "metadata": {},
   "outputs": [
    {
     "data": {
      "text/plain": [
       "inmateid              object\n",
       "admitted_dt           object\n",
       "custody_level         object\n",
       "bradh                 object\n",
       "race                  object\n",
       "gender                object\n",
       "age                    int64\n",
       "inmate_status_code    object\n",
       "sealed                object\n",
       "srg_flg               object\n",
       "top_charge            object\n",
       "infraction            object\n",
       "dtype: object"
      ]
     },
     "execution_count": 19,
     "metadata": {},
     "output_type": "execute_result"
    }
   ],
   "source": [
    "inmates.dtypes"
   ]
  },
  {
   "cell_type": "code",
   "execution_count": 20,
   "id": "11520d23-5ff8-4aa7-9798-14b8e3943471",
   "metadata": {},
   "outputs": [
    {
     "data": {
      "text/plain": [
       "34.76056338028169"
      ]
     },
     "execution_count": 20,
     "metadata": {},
     "output_type": "execute_result"
    }
   ],
   "source": [
    "inmates.age.mean()"
   ]
  },
  {
   "cell_type": "code",
   "execution_count": 33,
   "id": "8a014efa-00a4-405f-973c-7b0f79ea5ed4",
   "metadata": {},
   "outputs": [
    {
     "data": {
      "text/plain": [
       "<AxesSubplot:ylabel='Density'>"
      ]
     },
     "execution_count": 33,
     "metadata": {},
     "output_type": "execute_result"
    },
    {
     "data": {
      "image/png": "[encoded data removed]",
      "text/plain": [
       "<Figure size 1080x360 with 1 Axes>"
      ]
     },
     "metadata": {},
     "output_type": "display_data"
    }
   ],
   "source": [
    "inmates.age.plot(kind='hist', color='blue', alpha=0.8, density=True, edgecolor='white', bins=17)\n",
    "inmates.age.plot(kind='kde', color='black', linewidth=5)"
   ]
  },
  {
   "cell_type": "code",
   "execution_count": null,
   "id": "aef748a4-0366-47ac-8cf2-a3b1735528ea",
   "metadata": {},
   "outputs": [],
   "source": []
  }
 ],
 "metadata": {
  "kernelspec": {
   "display_name": "Python 3 (ipykernel)",
   "language": "python",
   "name": "python3"
  },
  "language_info": {
   "codemirror_mode": {
    "name": "ipython",
    "version": 3
   },
   "file_extension": ".py",
   "mimetype": "text/x-python",
   "name": "python",
   "nbconvert_exporter": "python",
   "pygments_lexer": "ipython3",
   "version": "3.10.2"
  }
 },
 "nbformat": 4,
 "nbformat_minor": 5
}
