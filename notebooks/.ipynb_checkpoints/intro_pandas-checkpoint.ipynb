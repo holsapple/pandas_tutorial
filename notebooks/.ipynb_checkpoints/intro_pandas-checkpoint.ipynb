{
 "cells": [
  {
   "cell_type": "markdown",
   "id": "60ae80c1-9215-4f4b-b75e-1eeed3691b5d",
   "metadata": {},
   "source": [
    "# Introduction to pandas"
   ]
  },
  {
   "cell_type": "markdown",
   "id": "f97487d8-4b7c-45ef-9373-5ea1ca675236",
   "metadata": {},
   "source": [
    "## 1. Basic Data Structures in pandas"
   ]
  },
  {
   "cell_type": "markdown",
   "id": "857cc97d-cb0f-4d31-9398-afefe9c1128d",
   "metadata": {},
   "source": [
    "In this section I'll introduce the two main data structures in pandas: `DataFrame` and `Series`. I'll also show how you can perform some very basic data exploration and analysis of those structures."
   ]
  },
  {
   "cell_type": "markdown",
   "id": "1a3b1b96-93be-45d4-8675-0ac729da3cf7",
   "metadata": {},
   "source": [
    "### 1.1 Preliminaries "
   ]
  },
  {
   "cell_type": "markdown",
   "id": "08e91d0f-dde1-425e-963e-d5c7d3906723",
   "metadata": {},
   "source": [
    "If you are new to Python, then this first step might seem strange to you. When you have Python installed on your computer, it comes with a standard library of code packages that are specialized to perform certain tasks more efficiently than if you were to write the code \"from scratch\" for every task you want to perform. In addition to the standard library, there are many other packages (a.k.a. modules) that are easily downloadable from the internet. Indeed, this is exacly what pandas is... a Python package used for data analysis that is not in Python's standard library.\n",
    "\n",
    "Python has a small subset of [built-in functions](https://docs.python.org/3/library/functions.html) that are always available to you. However, if you want to use the functionality from one of those additional modules, whether they are from the standard library or downloaded from the internet, you must `import` it before you use it. As such, the first thing that most people like to do at the top of their code is to import the modules that they plan to use. If you forget one or simply decide later on to use one not already imported, then you can do so at any point in the code.\n",
    "\n",
    "In this next cell we `import` the modules necessary for this notebook. Some coders like to refer to this as a \"preamble,\" but I'm not sure that is standard. For reasons beyond the scope of this tutorial, it is also common for users to set certain parameters in the preamble. For example, below I set a few parameters that make the figures look a bit nicer. In addition to the imports and figure settings, there is also what we call a [magic command](https://ipython.readthedocs.io/en/stable/interactive/magics.html): `%matplotlib inline`. This command simply tells the plotting module to produce the figures inline in the notebook."
   ]
  },
  {
   "cell_type": "code",
   "execution_count": 1,
   "id": "42fb4843-f9ee-4071-b24a-7c1bc85f3c72",
   "metadata": {},
   "outputs": [],
   "source": [
    "# Any text on any line that is preceded by a '#' is simply a comment\n",
    "\n",
    "# Most of the lines below will be part of our standard preamble.\n",
    "\n",
    "%matplotlib inline\n",
    "\n",
    "import pandas as pd # this is why we're here... to learn pandas\n",
    "import numpy as np # fundamental package for scientific computing \n",
    "import matplotlib.pyplot as plt # this package makes the plots\n",
    "import requests # this package assists with downloading data from the internet\n",
    "import json # this package helps Python work with JSON objects\n",
    "\n",
    "plt.style.use('ggplot') # Make the graphs a bit prettier\n",
    "plt.rcParams['figure.figsize'] = (15, 5)\n",
    "plt.rcParams['font.family'] = 'sans-serif'"
   ]
  },
  {
   "cell_type": "markdown",
   "id": "f37a95e2-faf9-455f-97a5-aa005943dc31",
   "metadata": {},
   "source": [
    "**Note**: You probably noticed the use of the word \"as\" in those `import` statements above. This simply assigns a shorthand label to the package being imported. For example, when we want to use a function from pandas, we can refer to the module using `pd` instead of `pandas`. "
   ]
  },
  {
   "cell_type": "markdown",
   "id": "ddd7d464-2604-48ee-8735-8a6d1fbcf1cf",
   "metadata": {},
   "source": [
    "### 1.2 Load a dataset"
   ]
  },
  {
   "cell_type": "markdown",
   "id": "df6e0fff-04ea-43c6-b238-a0f0842f2e40",
   "metadata": {},
   "source": [
    "We can't really do much without some data to work with, so first let's load a dataset into the workspace. One of the most widely used methods for storing data is in a file type called \"Comma Separated Values\" or CSV. A CSV file is simply a text file containing data. The name itself is kind of a misnomer, since the data in a CSV doesn't have to be separtated by a comma. It can be separated by a semicolon or tab or space or some other symbol, called a delimiter. As long as you know what the delimeter is, pandas will have no problem loading in the dataset. By default, pandas will assume the delimeter is a comma.\n",
    "\n",
    "The dataset I want to open is `../data/Meteorite_Landings.csv`. Just in case you're not familiar with that syntax, `..` means to go up (back) one level in the directory tree. In that directory (folder) you'll see a directory called `data`. If you navigate into the `data` directory, you'll find the CSV file mentioned. The function I'll use to load (*read*) the CSV file is called `read_csv()`"
   ]
  },
  {
   "cell_type": "code",
   "execution_count": 2,
   "id": "bbd94e7e-4fff-4b86-a5c9-3a84cb187857",
   "metadata": {},
   "outputs": [],
   "source": [
    "meteorites = pd.read_csv('../data/Meteorite_Landings.csv')"
   ]
  },
  {
   "cell_type": "markdown",
   "id": "d9370815-971f-4a68-ac9f-2a13fe01d40a",
   "metadata": {},
   "source": [
    "And just like that, we have \"loaded\" all of the data from that CSV file into our workspace. For aesthetic reasons, Python doesn't make a habit of printing things to the screen unless you ask it to do so, that's why you don't see anything. But rest assured that the data contained in that CSV file now stored in the variable `meteorites`. Unless we modify it or delete it, we will have access to all that data while we are working in this notebook. Now let's learn how the data are arranged in this Python object and the specific data structures associated with it."
   ]
  },
  {
   "cell_type": "markdown",
   "id": "aecd261d-71b5-4d89-a0f6-349ce4121299",
   "metadata": {},
   "source": [
    "### 1.3 The `DataFrame` and `Series` structures"
   ]
  },
  {
   "cell_type": "markdown",
   "id": "44a4af2e-ae9e-4336-982b-9a6111c78983",
   "metadata": {},
   "source": [
    "The first thing we should do is to simply look at the data. If you want to do so, you can open up the CSV file itself in a text editor. But the best way to view the data is right here in this notebook. Let's take a look at the top (a.k.a., head) of the dataset. We'll use the `.head()` method to do this. We can put a positive integer inside the () to tell Python how many rows (sometimes called \"records\") from the head of the dataset to print out. We don't have to do this; by default, it will print out five records."
   ]
  },
  {
   "cell_type": "code",
   "execution_count": 3,
   "id": "4de986e7-95f1-487a-953a-f40d66e14800",
   "metadata": {},
   "outputs": [
    {
     "data": {
      "text/html": [
       "<div>\n",
       "<style scoped>\n",
       "    .dataframe tbody tr th:only-of-type {\n",
       "        vertical-align: middle;\n",
       "    }\n",
       "\n",
       "    .dataframe tbody tr th {\n",
       "        vertical-align: top;\n",
       "    }\n",
       "\n",
       "    .dataframe thead th {\n",
       "        text-align: right;\n",
       "    }\n",
       "</style>\n",
       "<table border=\"1\" class=\"dataframe\">\n",
       "  <thead>\n",
       "    <tr style=\"text-align: right;\">\n",
       "      <th></th>\n",
       "      <th>name</th>\n",
       "      <th>id</th>\n",
       "      <th>nametype</th>\n",
       "      <th>recclass</th>\n",
       "      <th>mass (g)</th>\n",
       "      <th>fall</th>\n",
       "      <th>year</th>\n",
       "      <th>reclat</th>\n",
       "      <th>reclong</th>\n",
       "      <th>GeoLocation</th>\n",
       "    </tr>\n",
       "  </thead>\n",
       "  <tbody>\n",
       "    <tr>\n",
       "      <th>0</th>\n",
       "      <td>Aachen</td>\n",
       "      <td>1</td>\n",
       "      <td>Valid</td>\n",
       "      <td>L5</td>\n",
       "      <td>21.0</td>\n",
       "      <td>Fell</td>\n",
       "      <td>01/01/1880 12:00:00 AM</td>\n",
       "      <td>50.77500</td>\n",
       "      <td>6.08333</td>\n",
       "      <td>(50.775, 6.08333)</td>\n",
       "    </tr>\n",
       "    <tr>\n",
       "      <th>1</th>\n",
       "      <td>Aarhus</td>\n",
       "      <td>2</td>\n",
       "      <td>Valid</td>\n",
       "      <td>H6</td>\n",
       "      <td>720.0</td>\n",
       "      <td>Fell</td>\n",
       "      <td>01/01/1951 12:00:00 AM</td>\n",
       "      <td>56.18333</td>\n",
       "      <td>10.23333</td>\n",
       "      <td>(56.18333, 10.23333)</td>\n",
       "    </tr>\n",
       "    <tr>\n",
       "      <th>2</th>\n",
       "      <td>Abee</td>\n",
       "      <td>6</td>\n",
       "      <td>Valid</td>\n",
       "      <td>EH4</td>\n",
       "      <td>107000.0</td>\n",
       "      <td>Fell</td>\n",
       "      <td>01/01/1952 12:00:00 AM</td>\n",
       "      <td>54.21667</td>\n",
       "      <td>-113.00000</td>\n",
       "      <td>(54.21667, -113.0)</td>\n",
       "    </tr>\n",
       "    <tr>\n",
       "      <th>3</th>\n",
       "      <td>Acapulco</td>\n",
       "      <td>10</td>\n",
       "      <td>Valid</td>\n",
       "      <td>Acapulcoite</td>\n",
       "      <td>1914.0</td>\n",
       "      <td>Fell</td>\n",
       "      <td>01/01/1976 12:00:00 AM</td>\n",
       "      <td>16.88333</td>\n",
       "      <td>-99.90000</td>\n",
       "      <td>(16.88333, -99.9)</td>\n",
       "    </tr>\n",
       "    <tr>\n",
       "      <th>4</th>\n",
       "      <td>Achiras</td>\n",
       "      <td>370</td>\n",
       "      <td>Valid</td>\n",
       "      <td>L6</td>\n",
       "      <td>780.0</td>\n",
       "      <td>Fell</td>\n",
       "      <td>01/01/1902 12:00:00 AM</td>\n",
       "      <td>-33.16667</td>\n",
       "      <td>-64.95000</td>\n",
       "      <td>(-33.16667, -64.95)</td>\n",
       "    </tr>\n",
       "  </tbody>\n",
       "</table>\n",
       "</div>"
      ],
      "text/plain": [
       "       name   id nametype     recclass  mass (g)  fall  \\\n",
       "0    Aachen    1    Valid           L5      21.0  Fell   \n",
       "1    Aarhus    2    Valid           H6     720.0  Fell   \n",
       "2      Abee    6    Valid          EH4  107000.0  Fell   \n",
       "3  Acapulco   10    Valid  Acapulcoite    1914.0  Fell   \n",
       "4   Achiras  370    Valid           L6     780.0  Fell   \n",
       "\n",
       "                     year    reclat    reclong           GeoLocation  \n",
       "0  01/01/1880 12:00:00 AM  50.77500    6.08333     (50.775, 6.08333)  \n",
       "1  01/01/1951 12:00:00 AM  56.18333   10.23333  (56.18333, 10.23333)  \n",
       "2  01/01/1952 12:00:00 AM  54.21667 -113.00000    (54.21667, -113.0)  \n",
       "3  01/01/1976 12:00:00 AM  16.88333  -99.90000     (16.88333, -99.9)  \n",
       "4  01/01/1902 12:00:00 AM -33.16667  -64.95000   (-33.16667, -64.95)  "
      ]
     },
     "execution_count": 3,
     "metadata": {},
     "output_type": "execute_result"
    }
   ],
   "source": [
    "meteorites.head()"
   ]
  },
  {
   "cell_type": "code",
   "execution_count": 4,
   "id": "78373933-861c-493e-acad-1bdf4c8f722f",
   "metadata": {},
   "outputs": [
    {
     "data": {
      "text/plain": [
       "pandas.core.frame.DataFrame"
      ]
     },
     "execution_count": 4,
     "metadata": {},
     "output_type": "execute_result"
    }
   ],
   "source": [
    "# To see what kind of oject we have\n",
    "type(meteorites)"
   ]
  },
  {
   "cell_type": "markdown",
   "id": "1f66b52a-e8fc-4b99-bc95-4981db19f708",
   "metadata": {},
   "source": [
    "It turns out that this object we created (called `meteorites`) is a pandas `DataFrame`. You can think of a `DataFrame` as a table of data, like something you'd create in a spreadsheet. It has two dimensions. Each row is one record of data. Each record consists of ten \"pieces\" (sometimes called *features*) of data. If we compare the text in the actual CSV file, we can see that the first row of data contains the labels for the various columns (features) of the dataset. \n",
    "\n",
    "Notice that the first column has no label and is a list of integers from 0 to 4. This is the `index` of the `DataFrame`. These values are not actually in the CSV file... go take a look. Each record in a `DataFrame` needs to have a unique identifier; we accomplish that using an `index`. **Note**: an `index` doesn't have to be sequential integers. It can be whatever we want it to be, but integers and dates and timestamps are very common. \n",
    "\n",
    "Also, notice that the first record has an index of 0, not 1. If you are not familiar with computer science, it may surprise you that we like to start counting with the integer *ZERO*, not with *ONE*. Let's not get into the reason why."
   ]
  },
  {
   "cell_type": "markdown",
   "id": "93e333b8-1461-4a93-b452-9a1fd9443819",
   "metadata": {},
   "source": [
    "**How big is it?** If we want to see the size of the `DataFrame`, we have several options. If we just want to know how many records there are, we can use the `len()` built-in function for \"length\". If we want to know the shape, i.e., size in all dimensions, we use the `.shape` attribute of the pandas `DataFrame` object."
   ]
  },
  {
   "cell_type": "code",
   "execution_count": 5,
   "id": "738e2132-eaae-4520-b52c-50129b71fae5",
   "metadata": {},
   "outputs": [
    {
     "data": {
      "text/plain": [
       "45716"
      ]
     },
     "execution_count": 5,
     "metadata": {},
     "output_type": "execute_result"
    }
   ],
   "source": [
    "# This will show us the length of the DataFrame, i.e., the number of records\n",
    "len(meteorites)"
   ]
  },
  {
   "cell_type": "code",
   "execution_count": 6,
   "id": "89c4022a-13cf-4c4f-9f2f-cea56645ea61",
   "metadata": {},
   "outputs": [
    {
     "data": {
      "text/plain": [
       "(45716, 10)"
      ]
     },
     "execution_count": 6,
     "metadata": {},
     "output_type": "execute_result"
    }
   ],
   "source": [
    "# This will show us the entire shape of the DataFrame\n",
    "meteorites.shape"
   ]
  },
  {
   "cell_type": "markdown",
   "id": "75ab2b8b-b364-42e4-b45f-662b5a597d9d",
   "metadata": {},
   "source": [
    "Each column in the `DataFrame` is a pandas `Series`. A `Series` is a one dimensional collection of data, like a vector of data (if the mathematical concept of \"vector\" means anything to you)."
   ]
  },
  {
   "cell_type": "code",
   "execution_count": 9,
   "id": "37de3160-a73c-4674-8c35-dfd186193e33",
   "metadata": {},
   "outputs": [
    {
     "name": "stdout",
     "output_type": "stream",
     "text": [
      "0                          L5\n",
      "1                          H6\n",
      "2                         EH4\n",
      "3                 Acapulcoite\n",
      "4                          L6\n",
      "                 ...         \n",
      "45711                 Eucrite\n",
      "45712    Pallasite, ungrouped\n",
      "45713                      H4\n",
      "45714                      L6\n",
      "45715                    L3.7\n",
      "Name: recclass, Length: 45716, dtype: object\n"
     ]
    },
    {
     "data": {
      "text/plain": [
       "pandas.core.series.Series"
      ]
     },
     "execution_count": 9,
     "metadata": {},
     "output_type": "execute_result"
    }
   ],
   "source": [
    "# grab onto one of those columns and give it a label\n",
    "r_class = meteorites.recclass\n",
    "\n",
    "# print this new object to the screen\n",
    "print(r_class)\n",
    "\n",
    "# print the type of this object\n",
    "type(r_class)"
   ]
  },
  {
   "cell_type": "markdown",
   "id": "0ec291a6-7306-44d3-b247-45d496e47c6f",
   "metadata": {},
   "source": [
    "Notice that it did not print out all 45716 entries in this `Series`. By default, the behavior of the `print()` function in this notebook is designed so that it won't print out very large amounts of data unless you force it to do so. Even then, there are limits to the amount of data that this notebook will print to the screen when prompted to do so.\n",
    "\n",
    "Also notice that this `Series` no longer has the column label \"recclass\" from the `DataFrame` attached to it. This is because a pandas `Series` really does behave like a one-dimensional array of values. We can even \"grab on to\" one or more of the values by integer reference... just like we can with an array."
   ]
  },
  {
   "cell_type": "code",
   "execution_count": 11,
   "id": "5fd4e7fb-5956-46e7-ad72-5b6dd40daad7",
   "metadata": {},
   "outputs": [
    {
     "data": {
      "text/plain": [
       "'L5'"
      ]
     },
     "execution_count": 11,
     "metadata": {},
     "output_type": "execute_result"
    }
   ],
   "source": [
    "# print out the first element\n",
    "r_class[0]"
   ]
  },
  {
   "cell_type": "code",
   "execution_count": 12,
   "id": "29507d96-7513-4112-85fe-2be4ddfb03b5",
   "metadata": {},
   "outputs": [
    {
     "data": {
      "text/plain": [
       "0              L5\n",
       "1              H6\n",
       "2             EH4\n",
       "3     Acapulcoite\n",
       "4              L6\n",
       "         ...     \n",
       "95            LL6\n",
       "96             L6\n",
       "97             H6\n",
       "98             H6\n",
       "99            LL6\n",
       "Name: recclass, Length: 100, dtype: object"
      ]
     },
     "execution_count": 12,
     "metadata": {},
     "output_type": "execute_result"
    }
   ],
   "source": [
    "# print out the first 100 elements\n",
    "r_class[0:100]"
   ]
  },
  {
   "cell_type": "markdown",
   "id": "7461ccd6-6513-4d31-8acd-80c9594db4c7",
   "metadata": {},
   "source": [
    "So, this `DataFrame` of ours is simply ten `Series` of data appended together. If needed, we can create a list of column labels from our `DataFrame`."
   ]
  },
  {
   "cell_type": "code",
   "execution_count": 14,
   "id": "ecc8945f-517a-48d9-a874-bd0a87cb253a",
   "metadata": {},
   "outputs": [
    {
     "name": "stdout",
     "output_type": "stream",
     "text": [
      "Index(['name', 'id', 'nametype', 'recclass', 'mass (g)', 'fall', 'year',\n",
      "       'reclat', 'reclong', 'GeoLocation'],\n",
      "      dtype='object')\n"
     ]
    }
   ],
   "source": [
    "# Get the column labels\n",
    "cols = meteorites.columns\n",
    "print(cols)"
   ]
  },
  {
   "cell_type": "code",
   "execution_count": 15,
   "id": "f7fa407d-5297-431f-9944-c9a8d9a4c6bf",
   "metadata": {},
   "outputs": [
    {
     "data": {
      "text/plain": [
       "'name'"
      ]
     },
     "execution_count": 15,
     "metadata": {},
     "output_type": "execute_result"
    }
   ],
   "source": [
    "# print out the first column label\n",
    "cols[0]"
   ]
  },
  {
   "cell_type": "code",
   "execution_count": 16,
   "id": "efb7c8c3-51e5-41f2-9d49-ef759a678d39",
   "metadata": {},
   "outputs": [
    {
     "data": {
      "text/plain": [
       "Index(['name', 'id', 'nametype'], dtype='object')"
      ]
     },
     "execution_count": 16,
     "metadata": {},
     "output_type": "execute_result"
    }
   ],
   "source": [
    "# print out the first three column labels\n",
    "cols[0:3]"
   ]
  },
  {
   "cell_type": "markdown",
   "id": "3b3c40b4-3e67-4c6b-9632-b847dbbff83d",
   "metadata": {},
   "source": [
    "In addition, we can also get the indices of any `DataFrame` and store them in a variable. In this case, doing so would hardly seem necessary since the indices are sequential integers. Nevertheless, if the indices were of some other data type, you might want or need that `index` stored in some variable to be used later."
   ]
  },
  {
   "cell_type": "code",
   "execution_count": 17,
   "id": "c172845d-7e4d-4cee-b3e2-fd83ecf060b4",
   "metadata": {},
   "outputs": [
    {
     "name": "stdout",
     "output_type": "stream",
     "text": [
      "RangeIndex(start=0, stop=45716, step=1)\n"
     ]
    }
   ],
   "source": [
    "# Get the indices\n",
    "idx = meteorites.index\n",
    "print(idx)"
   ]
  },
  {
   "cell_type": "code",
   "execution_count": 18,
   "id": "03a68a20-7916-4992-92fe-61944a20a512",
   "metadata": {},
   "outputs": [
    {
     "data": {
      "text/plain": [
       "42"
      ]
     },
     "execution_count": 18,
     "metadata": {},
     "output_type": "execute_result"
    }
   ],
   "source": [
    "# print out the 43rd index (remember... we start counting at zero!)\n",
    "idx[42]"
   ]
  },
  {
   "cell_type": "code",
   "execution_count": 19,
   "id": "2ddb105d-f5c9-4dab-be29-7a6dbcd57875",
   "metadata": {},
   "outputs": [
    {
     "data": {
      "text/plain": [
       "RangeIndex(start=8, stop=18, step=1)"
      ]
     },
     "execution_count": 19,
     "metadata": {},
     "output_type": "execute_result"
    }
   ],
   "source": [
    "# print out the 9th through 18th indices\n",
    "idx[8:18]"
   ]
  },
  {
   "cell_type": "code",
   "execution_count": null,
   "id": "5e4d4cdd-f282-44a3-a52c-73b63b4b3e80",
   "metadata": {},
   "outputs": [],
   "source": []
  }
 ],
 "metadata": {
  "kernelspec": {
   "display_name": "Python 3 (ipykernel)",
   "language": "python",
   "name": "python3"
  },
  "language_info": {
   "codemirror_mode": {
    "name": "ipython",
    "version": 3
   },
   "file_extension": ".py",
   "mimetype": "text/x-python",
   "name": "python",
   "nbconvert_exporter": "python",
   "pygments_lexer": "ipython3",
   "version": "3.10.2"
  }
 },
 "nbformat": 4,
 "nbformat_minor": 5
}
